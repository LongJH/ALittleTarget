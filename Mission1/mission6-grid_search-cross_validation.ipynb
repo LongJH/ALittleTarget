{
 "cells": [
  {
   "cell_type": "markdown",
   "metadata": {},
   "source": [
    "# Mission 6 模型调优\n",
    "---\n",
    "\n",
    "\n",
    "## 任务\n",
    "使用网格搜索对模型进行调优并采用五折交叉验证的方式进行模型评估\n"
   ]
  },
  {
   "cell_type": "code",
   "execution_count": 55,
   "metadata": {},
   "outputs": [],
   "source": [
    "# 导入需要的包\n",
    "import pandas as pd\n",
    "from sklearn.model_selection import train_test_split, GridSearchCV\n",
    "from sklearn.metrics import roc_auc_score, roc_curve, accuracy_score, f1_score, classification_report\n",
    "\n",
    "# 设置 pandas 显示列数\n",
    "pd.set_option('display.max_columns', 10000)\n",
    "pd.set_option('display.width', 10000)"
   ]
  },
  {
   "cell_type": "markdown",
   "metadata": {},
   "source": [
    "## 1. 导入数据，2. 特征处理"
   ]
  },
  {
   "cell_type": "code",
   "execution_count": 4,
   "metadata": {},
   "outputs": [
    {
     "name": "stdout",
     "output_type": "stream",
     "text": [
      "X.shape: (4754, 89)\n",
      "y 的分布\n",
      " 0    3561\n",
      "1    1193\n",
      "Name: status, dtype: int64\n"
     ]
    }
   ],
   "source": [
    "# 假设前面我们已经将处理好的数据存到一个 cl_data.pkl 的文件\n",
    "import pickle as pkl\n",
    "with open('./data/cl_data.pkl', 'rb') as f:\n",
    "    cl_data = pkl.load(f)\n",
    "\n",
    "X_cl = cl_data['X_cl']\n",
    "y = cl_data['y']\n",
    "\n",
    "# 数据构成\n",
    "print('X.shape:', X_cl.shape)\n",
    "print('y 的分布\\n', y.value_counts())"
   ]
  },
  {
   "cell_type": "markdown",
   "metadata": {},
   "source": [
    "## 3. 数据划分\n",
    "为了避免训练集太少，使用 二八 分"
   ]
  },
  {
   "cell_type": "code",
   "execution_count": 6,
   "metadata": {},
   "outputs": [
    {
     "name": "stdout",
     "output_type": "stream",
     "text": [
      "(3803, 89)\n",
      "(951, 89)\n"
     ]
    }
   ],
   "source": [
    "from sklearn.model_selection import train_test_split\n",
    "random_state = 1115\n",
    "X_train, X_test, y_train, y_test = train_test_split(X_cl, y, test_size=0.2, random_state=random_state)\n",
    "print(X_train.shape)\n",
    "print(X_test.shape)"
   ]
  },
  {
   "cell_type": "code",
   "execution_count": 7,
   "metadata": {},
   "outputs": [],
   "source": [
    "# 数据归一化\n",
    "from sklearn.preprocessing import StandardScaler\n",
    "ss = StandardScaler()\n",
    "X_train_std = ss.fit_transform(X_train)\n",
    "X_test_std = ss.transform(X_test)"
   ]
  },
  {
   "cell_type": "markdown",
   "metadata": {},
   "source": [
    "## 4. 建模\n",
    "分别建立 LR、SVM(线性、多项式)、决策树、xgboost、lightgbm 模型"
   ]
  },
  {
   "cell_type": "code",
   "execution_count": 31,
   "metadata": {},
   "outputs": [],
   "source": [
    "# 逻辑回归\n",
    "from sklearn.linear_model import LogisticRegression\n",
    "from sklearn.svm import SVC\n",
    "from sklearn.tree import DecisionTreeClassifier\n",
    "from xgboost.sklearn import XGBClassifier\n",
    "from lightgbm.sklearn import LGBMClassifier\n",
    "\n",
    "# 构建模型\n",
    "lr = LogisticRegression(C=0.05, penalty='l1')\n",
    "linear_svc = SVC(kernel='linear', probability=True)\n",
    "poly_svc = SVC(kernel='poly', probability=True)\n",
    "dt = DecisionTreeClassifier(max_depth=8)\n",
    "xgb_model = XGBClassifier(learning_rate=0.1, n_estimators=42, max_depth=5, min_child_weight=1, gamma=0,\n",
    "                     subsample=0.8, colsample_bytree=0.8, nthread=4, scale_pos_weight=1, seed=112)\n",
    "lgb_model = LGBMClassifier(learning_rate=0.1, n_estimators=42, max_depth=5, min_child_weight=1, gamma=0,\n",
    "                       subsample=0.8, colsample_bytree=0.8, nthread=4, scale_pos_weight=1, seed=112)\n"
   ]
  },
  {
   "cell_type": "markdown",
   "metadata": {},
   "source": [
    "## 5. 调参\n",
    "这里就给出 lr、svm 和 决策树 的调参过程，xgb 和 lgbm 的调参比较复杂，可以看另一篇博文：[XGBoost 与 LightGBM 调参](https://blog.csdn.net/l75326747/article/details/84400776)\n",
    "\n",
    "以及 [GridSearchCV官方文档](https://scikit-learn.org/stable/modules/generated/sklearn.model_selection.GridSearchCV.html)"
   ]
  },
  {
   "cell_type": "code",
   "execution_count": 26,
   "metadata": {},
   "outputs": [],
   "source": [
    "from sklearn.model_selection import GridSearchCV\n",
    "\n",
    "# 设定评价标准\n",
    "scoring = 'roc_auc'  # 评价标准\n",
    "n_fold = 5  # n折交叉验证"
   ]
  },
  {
   "cell_type": "code",
   "execution_count": 18,
   "metadata": {},
   "outputs": [
    {
     "name": "stdout",
     "output_type": "stream",
     "text": [
      "0.778617252957\n",
      "{'C': 0.1, 'penalty': 'l1'}\n",
      "{'mean_fit_time': array([ 0.09887147,  0.24257188,  0.2813293 ,  0.40311856,  1.2466856 ,\n",
      "        0.53237805,  1.63812594,  0.45703673]), 'std_fit_time': array([ 0.01709597,  0.04139907,  0.09164482,  0.02642999,  0.56116323,\n",
      "        0.07733696,  0.494209  ,  0.05738623]), 'mean_score_time': array([ 0.02121534,  0.02061453,  0.02814903,  0.01701136,  0.01781282,\n",
      "        0.02982216,  0.01158957,  0.0064044 ]), 'std_score_time': array([ 0.01966506,  0.01843646,  0.01433749,  0.00844505,  0.01544267,\n",
      "        0.01311503,  0.00997755,  0.00588842]), 'param_C': masked_array(data = [0.05 0.05 0.1 0.1 0.5 0.5 1 1],\n",
      "             mask = [False False False False False False False False],\n",
      "       fill_value = ?)\n",
      ", 'param_penalty': masked_array(data = ['l1' 'l2' 'l1' 'l2' 'l1' 'l2' 'l1' 'l2'],\n",
      "             mask = [False False False False False False False False],\n",
      "       fill_value = ?)\n",
      ", 'params': [{'C': 0.05, 'penalty': 'l1'}, {'C': 0.05, 'penalty': 'l2'}, {'C': 0.1, 'penalty': 'l1'}, {'C': 0.1, 'penalty': 'l2'}, {'C': 0.5, 'penalty': 'l1'}, {'C': 0.5, 'penalty': 'l2'}, {'C': 1, 'penalty': 'l1'}, {'C': 1, 'penalty': 'l2'}], 'split0_test_score': array([ 0.78910073,  0.79398111,  0.79782137,  0.79219843,  0.79623025,\n",
      "        0.79062101,  0.79285929,  0.78706515]), 'split1_test_score': array([ 0.77145025,  0.76528475,  0.76158957,  0.75945331,  0.76313528,\n",
      "        0.76388856,  0.76281417,  0.76388856]), 'split2_test_score': array([ 0.76557911,  0.77585327,  0.77840671,  0.77294228,  0.77294228,\n",
      "        0.76678564,  0.77003128,  0.76570668]), 'split3_test_score': array([ 0.76736489,  0.76702527,  0.7735226 ,  0.76198235,  0.76413117,\n",
      "        0.76271504,  0.76486741,  0.76271504]), 'split4_test_score': array([ 0.77929273,  0.78083809,  0.78174342,  0.78083809,  0.78368435,\n",
      "        0.77799183,  0.78083809,  0.77799183]), 'mean_test_score': array([ 0.77455819,  0.7765979 ,  0.77861725,  0.77348398,  0.77602578,\n",
      "        0.77240149,  0.7742828 ,  0.77147404]), 'std_test_score': array([ 0.00867212,  0.01039685,  0.01178839,  0.01211524,  0.0125234 ,\n",
      "        0.01059404,  0.01119347,  0.00952017]), 'rank_test_score': array([4, 2, 1, 6, 3, 7, 5, 8]), 'split0_train_score': array([ 0.77811921,  0.78352108,  0.78081932,  0.78289395,  0.78035104,\n",
      "        0.78151417,  0.77997977,  0.78178991]), 'split1_train_score': array([ 0.7870496 ,  0.79061004,  0.78867576,  0.79016839,  0.79084321,\n",
      "        0.78956262,  0.7888407 ,  0.78916846]), 'split2_train_score': array([ 0.78372309,  0.78811879,  0.78437626,  0.78934622,  0.7882279 ,\n",
      "        0.79001652,  0.78884445,  0.78962513]), 'split3_train_score': array([ 0.78222828,  0.79046091,  0.78720892,  0.79090519,  0.79129926,\n",
      "        0.79295793,  0.79412247,  0.79295793]), 'split4_train_score': array([ 0.77938193,  0.78888409,  0.78400919,  0.78931955,  0.79083788,\n",
      "        0.78832677,  0.78888409,  0.78832677]), 'mean_train_score': array([ 0.78210042,  0.78831898,  0.78501789,  0.78852666,  0.78831186,\n",
      "        0.7884756 ,  0.7881343 ,  0.78837364]), 'std_train_score': array([ 0.0031744 ,  0.00257744,  0.00272902,  0.00287682,  0.0041254 ,\n",
      "        0.00379818,  0.00455895,  0.0036486 ])}\n"
     ]
    },
    {
     "data": {
      "text/plain": [
       "LogisticRegression(C=0.1, class_weight=None, dual=False, fit_intercept=True,\n",
       "          intercept_scaling=1, max_iter=100, multi_class='ovr', n_jobs=1,\n",
       "          penalty='l1', random_state=None, solver='liblinear', tol=0.0001,\n",
       "          verbose=0, warm_start=False)"
      ]
     },
     "execution_count": 18,
     "metadata": {},
     "output_type": "execute_result"
    }
   ],
   "source": [
    "# LR\n",
    "lr_param = {\n",
    "    'C': [0.05, 0.1, 0.5, 1],\n",
    "    'penalty': ['l1', 'l2'],\n",
    "}\n",
    "\n",
    "lr_grid = GridSearchCV(lr, lr_param, cv=n_fold, scoring=scoring, n_jobs=-1)\n",
    "lr_grid.fit(X_train_std, y_train)\n",
    "print(lr_grid.best_score_)  # 最优分数\n",
    "print(lr_grid.best_params_)  # 最优参数\n",
    "print(lr_grid.cv_results_)  # 结果\n",
    "\n",
    "# 把参数重新赋值给原模型\n",
    "lr.set_params(**lr_grid.best_params_)\n",
    "lr.fit(X_train_std, y_train)"
   ]
  },
  {
   "cell_type": "code",
   "execution_count": 23,
   "metadata": {},
   "outputs": [
    {
     "name": "stdout",
     "output_type": "stream",
     "text": [
      "0.767787326642\n",
      "{'C': 1}\n"
     ]
    },
    {
     "data": {
      "text/plain": [
       "SVC(C=1, cache_size=200, class_weight=None, coef0=0.0,\n",
       "  decision_function_shape='ovr', degree=3, gamma='auto', kernel='linear',\n",
       "  max_iter=-1, probability=True, random_state=None, shrinking=True,\n",
       "  tol=0.001, verbose=False)"
      ]
     },
     "execution_count": 23,
     "metadata": {},
     "output_type": "execute_result"
    }
   ],
   "source": [
    "# 线性SVC 如果一次性设置的参数太多，可能会跑很长时间，这个时候，建议使用贪心的方法，在某个参数调到最优的时候再调另一个参数\n",
    "linear_svc_param = {\n",
    "#     'kernel': ['linear', 'poly']\n",
    "    'C': [0.5, 1, 5],\n",
    "#     'degree': [2, 3]\n",
    "}\n",
    "\n",
    "linear_svc_grid = GridSearchCV(linear_svc, linear_svc_param, cv=n_fold, scoring=scoring, n_jobs=-1)\n",
    "linear_svc_grid.fit(X_train_std, y_train)\n",
    "print(linear_svc_grid.best_score_)  # 最优分数\n",
    "print(linear_svc_grid.best_params_)  # 最优参数\n",
    "\n",
    "# 把参数重新赋值给原模型\n",
    "linear_svc.set_params(**linear_svc_grid.best_params_)\n",
    "linear_svc.fit(X_train_std, y_train)"
   ]
  },
  {
   "cell_type": "code",
   "execution_count": null,
   "metadata": {},
   "outputs": [],
   "source": [
    "# 多项式SVC \n",
    "poly_svc_param = {\n",
    "    'C': [0.5, 1, 5],\n",
    "    'degree': [2, 3]\n",
    "}\n",
    "\n",
    "poly_svc_grid = GridSearchCV(poly_svc, poly_svc_param, cv=n_fold, scoring=scoring, n_jobs=-1)\n",
    "poly_svc_grid.fit(X_train_std, y_train)\n",
    "print(poly_svc_grid.best_score_)  # 最优分数\n",
    "print(poly_svc_grid.best_params_)  # 最优参数\n",
    "\n",
    "# 把参数重新赋值给原模型\n",
    "poly_svc.set_params(**svc_grid.best_params_)\n",
    "poly_svc.fit(X_train_std, y_train)"
   ]
  },
  {
   "cell_type": "code",
   "execution_count": 27,
   "metadata": {},
   "outputs": [
    {
     "name": "stdout",
     "output_type": "stream",
     "text": [
      "0.724018142962\n",
      "{'max_depth': 4}\n"
     ]
    },
    {
     "data": {
      "text/plain": [
       "DecisionTreeClassifier(class_weight=None, criterion='gini', max_depth=4,\n",
       "            max_features=None, max_leaf_nodes=None,\n",
       "            min_impurity_decrease=0.0, min_impurity_split=None,\n",
       "            min_samples_leaf=1, min_samples_split=2,\n",
       "            min_weight_fraction_leaf=0.0, presort=False, random_state=None,\n",
       "            splitter='best')"
      ]
     },
     "execution_count": 27,
     "metadata": {},
     "output_type": "execute_result"
    }
   ],
   "source": [
    "# 决策树  关于决策树参数较多，可参考：https://blog.csdn.net/qq_41577045/article/details/79844709\n",
    "dt_param = {\n",
    "    'max_depth': [3, 4, 5, 6, 7,],\n",
    "}\n",
    "\n",
    "dt_grid = GridSearchCV(dt, dt_param, cv=n_fold, scoring=scoring, n_jobs=-1)\n",
    "dt_grid.fit(X_train_std, y_train)\n",
    "print(dt_grid.best_score_)  # 最优分数\n",
    "print(dt_grid.best_params_)  # 最优参数\n",
    "\n",
    "# 把参数重新赋值给原模型\n",
    "dt.set_params(**dt_grid.best_params_)\n",
    "dt.fit(X_train_std, y_train)"
   ]
  },
  {
   "cell_type": "code",
   "execution_count": 32,
   "metadata": {},
   "outputs": [
    {
     "data": {
      "text/plain": [
       "LGBMClassifier(boosting_type='gbdt', class_weight=None, colsample_bytree=0.8,\n",
       "        gamma=0, importance_type='split', learning_rate=0.1, max_depth=5,\n",
       "        min_child_samples=20, min_child_weight=1, min_split_gain=0.0,\n",
       "        n_estimators=42, n_jobs=-1, nthread=4, num_leaves=31,\n",
       "        objective=None, random_state=None, reg_alpha=0.0, reg_lambda=0.0,\n",
       "        scale_pos_weight=1, seed=112, silent=True, subsample=0.8,\n",
       "        subsample_for_bin=200000, subsample_freq=0)"
      ]
     },
     "execution_count": 32,
     "metadata": {},
     "output_type": "execute_result"
    }
   ],
   "source": [
    "# XGBoost 与 LightGBM\n",
    "xgb_model.fit(X_train_std, y_train)\n",
    "lgb_model.fit(X_train_std, y_train)"
   ]
  },
  {
   "cell_type": "markdown",
   "metadata": {},
   "source": [
    "## 5. 评估"
   ]
  },
  {
   "cell_type": "code",
   "execution_count": 28,
   "metadata": {},
   "outputs": [],
   "source": [
    "from sklearn.metrics import accuracy_score, precision_score, recall_score, f1_score, roc_auc_score, roc_curve. precision_recall_curve\n",
    "from matplotlib import pyplot as plt\n",
    "# 定义评估函数\n",
    "def model_metrics(clf, X_train, X_test, y_train, y_test, i=0):\n",
    "    # 预测\n",
    "    y_train_pred = clf.predict(X_train)\n",
    "    y_test_pred = clf.predict(X_test)\n",
    "    y_train_pred_proba = clf.predict_proba(X_train)[:, 1]\n",
    "    y_test_pred_proba = clf.predict_proba(X_test)[:, 1]\n",
    "\n",
    "    # 评估\n",
    "    # 准确性\n",
    "    print('准确性：')\n",
    "    print('Train：{:.4f}'.format(accuracy_score(y_train, y_train_pred)))\n",
    "    print('Test：{:.4f}'.format(accuracy_score(y_test, y_test_pred)))\n",
    "    \n",
    "    # 精准率\n",
    "    print('精确率：')\n",
    "    print('Train：{:.4f}'.format(precision_score(y_train, y_train_pred)))\n",
    "    print('Test：{:.4f}'.format(precision_score(y_test, y_test_pred)))\n",
    "\n",
    "    # 召回率\n",
    "    print('召回率：')\n",
    "    print('Train：{:.4f}'.format(recall_score(y_train, y_train_pred)))\n",
    "    print('Test：{:.4f}'.format(recall_score(y_test, y_test_pred)))\n",
    "    \n",
    "    # f1_score\n",
    "    print('f1_score：')\n",
    "    print('Train：{:.4f}'.format(f1_score(y_train, y_train_pred)))\n",
    "    print('Test：{:.4f}'.format(f1_score(y_test, y_test_pred)))\n",
    "    \n",
    "    # roc_auc\n",
    "    print('roc_auc：')\n",
    "    print('Train：{:.4f}'.format(roc_auc_score(y_train, y_train_pred_proba)))\n",
    "    print('Test：{:.4f}'.format(roc_auc_score(y_test, y_test_pred_proba)))    \n",
    "    \n",
    "    # 描绘 ROC 曲线\n",
    "    fpr_tr, tpr_tr, _ = roc_curve(y_train, y_train_pred_proba)\n",
    "    fpr_te, tpr_te, _ = roc_curve(y_test, y_test_pred_proba)\n",
    "\n",
    "    # KS\n",
    "    print('KS：')\n",
    "    print('Train：{:.4f}'.format(max(abs((fpr_tr - tpr_tr)))))\n",
    "    print('Test：{:.4f}'.format(max(abs((fpr_te - tpr_te)))))\n",
    "\n",
    "    # 绘图\n",
    "    plt.figure(i)\n",
    "    plt.plot(fpr_tr, tpr_tr, 'r-',\n",
    "             label=\"Train:AUC: {:.3f} KS:{:.3f}\".format(roc_auc_score(y_train, y_train_pred_proba), \n",
    "                                                        max(abs((fpr_tr - tpr_tr)))))\n",
    "    plt.plot(fpr_te, tpr_te, 'g-',\n",
    "             label=\"Test:AUC: {:.3f} KS:{:.3f}\".format(roc_auc_score(y_test, y_test_pred_proba),\n",
    "                                                     max(abs((fpr_te - tpr_te)))))\n",
    "    plt.plot([0, 1], [0, 1], 'd--')\n",
    "    plt.legend(loc='best')\n",
    "    plt.title(\"ROC curse\")\n",
    "    plt.show()"
   ]
  },
  {
   "cell_type": "code",
   "execution_count": 30,
   "metadata": {
    "collapsed": true
   },
   "outputs": [
    {
     "ename": "NotFittedError",
     "evalue": "This LogisticRegression instance is not fitted yet",
     "output_type": "error",
     "traceback": [
      "\u001b[1;31m---------------------------------------------------------------------------\u001b[0m",
      "\u001b[1;31mNotFittedError\u001b[0m                            Traceback (most recent call last)",
      "\u001b[1;32m<ipython-input-30-b5a59653c79d>\u001b[0m in \u001b[0;36m<module>\u001b[1;34m()\u001b[0m\n\u001b[0;32m      1\u001b[0m \u001b[1;31m# 逻辑回归\u001b[0m\u001b[1;33m\u001b[0m\u001b[1;33m\u001b[0m\u001b[0m\n\u001b[1;32m----> 2\u001b[1;33m \u001b[0mmodel_metrics\u001b[0m\u001b[1;33m(\u001b[0m\u001b[0mlr\u001b[0m\u001b[1;33m,\u001b[0m \u001b[0mX_train_std\u001b[0m\u001b[1;33m,\u001b[0m \u001b[0mX_test_std\u001b[0m\u001b[1;33m,\u001b[0m \u001b[0my_train\u001b[0m\u001b[1;33m,\u001b[0m \u001b[0my_test\u001b[0m\u001b[1;33m)\u001b[0m\u001b[1;33m\u001b[0m\u001b[0m\n\u001b[0m",
      "\u001b[1;32m<ipython-input-28-5e46a4b6e339>\u001b[0m in \u001b[0;36mmodel_metrics\u001b[1;34m(clf, X_train, X_test, y_train, y_test, i)\u001b[0m\n\u001b[0;32m      4\u001b[0m \u001b[1;32mdef\u001b[0m \u001b[0mmodel_metrics\u001b[0m\u001b[1;33m(\u001b[0m\u001b[0mclf\u001b[0m\u001b[1;33m,\u001b[0m \u001b[0mX_train\u001b[0m\u001b[1;33m,\u001b[0m \u001b[0mX_test\u001b[0m\u001b[1;33m,\u001b[0m \u001b[0my_train\u001b[0m\u001b[1;33m,\u001b[0m \u001b[0my_test\u001b[0m\u001b[1;33m,\u001b[0m \u001b[0mi\u001b[0m\u001b[1;33m=\u001b[0m\u001b[1;36m0\u001b[0m\u001b[1;33m)\u001b[0m\u001b[1;33m:\u001b[0m\u001b[1;33m\u001b[0m\u001b[0m\n\u001b[0;32m      5\u001b[0m     \u001b[1;31m# 预测\u001b[0m\u001b[1;33m\u001b[0m\u001b[1;33m\u001b[0m\u001b[0m\n\u001b[1;32m----> 6\u001b[1;33m     \u001b[0my_train_pred\u001b[0m \u001b[1;33m=\u001b[0m \u001b[0mclf\u001b[0m\u001b[1;33m.\u001b[0m\u001b[0mpredict\u001b[0m\u001b[1;33m(\u001b[0m\u001b[0mX_train\u001b[0m\u001b[1;33m)\u001b[0m\u001b[1;33m\u001b[0m\u001b[0m\n\u001b[0m\u001b[0;32m      7\u001b[0m     \u001b[0my_test_pred\u001b[0m \u001b[1;33m=\u001b[0m \u001b[0mclf\u001b[0m\u001b[1;33m.\u001b[0m\u001b[0mpredict\u001b[0m\u001b[1;33m(\u001b[0m\u001b[0mX_test\u001b[0m\u001b[1;33m)\u001b[0m\u001b[1;33m\u001b[0m\u001b[0m\n\u001b[0;32m      8\u001b[0m     \u001b[0my_train_pred_proba\u001b[0m \u001b[1;33m=\u001b[0m \u001b[0mclf\u001b[0m\u001b[1;33m.\u001b[0m\u001b[0mpredict_proba\u001b[0m\u001b[1;33m(\u001b[0m\u001b[0mX_train\u001b[0m\u001b[1;33m)\u001b[0m\u001b[1;33m[\u001b[0m\u001b[1;33m:\u001b[0m\u001b[1;33m,\u001b[0m \u001b[1;36m1\u001b[0m\u001b[1;33m]\u001b[0m\u001b[1;33m\u001b[0m\u001b[0m\n",
      "\u001b[1;32mD:\\Anaconda3\\lib\\site-packages\\sklearn\\linear_model\\base.py\u001b[0m in \u001b[0;36mpredict\u001b[1;34m(self, X)\u001b[0m\n\u001b[0;32m    322\u001b[0m             \u001b[0mPredicted\u001b[0m \u001b[1;32mclass\u001b[0m \u001b[0mlabel\u001b[0m \u001b[0mper\u001b[0m \u001b[0msample\u001b[0m\u001b[1;33m.\u001b[0m\u001b[1;33m\u001b[0m\u001b[0m\n\u001b[0;32m    323\u001b[0m         \"\"\"\n\u001b[1;32m--> 324\u001b[1;33m         \u001b[0mscores\u001b[0m \u001b[1;33m=\u001b[0m \u001b[0mself\u001b[0m\u001b[1;33m.\u001b[0m\u001b[0mdecision_function\u001b[0m\u001b[1;33m(\u001b[0m\u001b[0mX\u001b[0m\u001b[1;33m)\u001b[0m\u001b[1;33m\u001b[0m\u001b[0m\n\u001b[0m\u001b[0;32m    325\u001b[0m         \u001b[1;32mif\u001b[0m \u001b[0mlen\u001b[0m\u001b[1;33m(\u001b[0m\u001b[0mscores\u001b[0m\u001b[1;33m.\u001b[0m\u001b[0mshape\u001b[0m\u001b[1;33m)\u001b[0m \u001b[1;33m==\u001b[0m \u001b[1;36m1\u001b[0m\u001b[1;33m:\u001b[0m\u001b[1;33m\u001b[0m\u001b[0m\n\u001b[0;32m    326\u001b[0m             \u001b[0mindices\u001b[0m \u001b[1;33m=\u001b[0m \u001b[1;33m(\u001b[0m\u001b[0mscores\u001b[0m \u001b[1;33m>\u001b[0m \u001b[1;36m0\u001b[0m\u001b[1;33m)\u001b[0m\u001b[1;33m.\u001b[0m\u001b[0mastype\u001b[0m\u001b[1;33m(\u001b[0m\u001b[0mnp\u001b[0m\u001b[1;33m.\u001b[0m\u001b[0mint\u001b[0m\u001b[1;33m)\u001b[0m\u001b[1;33m\u001b[0m\u001b[0m\n",
      "\u001b[1;32mD:\\Anaconda3\\lib\\site-packages\\sklearn\\linear_model\\base.py\u001b[0m in \u001b[0;36mdecision_function\u001b[1;34m(self, X)\u001b[0m\n\u001b[0;32m    296\u001b[0m         \u001b[1;32mif\u001b[0m \u001b[1;32mnot\u001b[0m \u001b[0mhasattr\u001b[0m\u001b[1;33m(\u001b[0m\u001b[0mself\u001b[0m\u001b[1;33m,\u001b[0m \u001b[1;34m'coef_'\u001b[0m\u001b[1;33m)\u001b[0m \u001b[1;32mor\u001b[0m \u001b[0mself\u001b[0m\u001b[1;33m.\u001b[0m\u001b[0mcoef_\u001b[0m \u001b[1;32mis\u001b[0m \u001b[1;32mNone\u001b[0m\u001b[1;33m:\u001b[0m\u001b[1;33m\u001b[0m\u001b[0m\n\u001b[0;32m    297\u001b[0m             raise NotFittedError(\"This %(name)s instance is not fitted \"\n\u001b[1;32m--> 298\u001b[1;33m                                  \"yet\" % {'name': type(self).__name__})\n\u001b[0m\u001b[0;32m    299\u001b[0m \u001b[1;33m\u001b[0m\u001b[0m\n\u001b[0;32m    300\u001b[0m         \u001b[0mX\u001b[0m \u001b[1;33m=\u001b[0m \u001b[0mcheck_array\u001b[0m\u001b[1;33m(\u001b[0m\u001b[0mX\u001b[0m\u001b[1;33m,\u001b[0m \u001b[0maccept_sparse\u001b[0m\u001b[1;33m=\u001b[0m\u001b[1;34m'csr'\u001b[0m\u001b[1;33m)\u001b[0m\u001b[1;33m\u001b[0m\u001b[0m\n",
      "\u001b[1;31mNotFittedError\u001b[0m: This LogisticRegression instance is not fitted yet"
     ]
    }
   ],
   "source": [
    "# 逻辑回归\n",
    "model_metrics(lr, X_train_std, X_test_std, y_train, y_test)"
   ]
  },
  {
   "cell_type": "code",
   "execution_count": 129,
   "metadata": {
    "collapsed": true
   },
   "outputs": [
    {
     "name": "stdout",
     "output_type": "stream",
     "text": [
      "准确性：\n",
      "Train：0.8025\n",
      "Test：0.8003\n",
      "召回率：\n",
      "Train：0.3628\n",
      "Test：0.3718\n",
      "f1_score：\n",
      "Train：0.4806\n",
      "Test：0.4809\n",
      "roc_auc：\n",
      "Train：0.8116\n",
      "Test：0.7948\n",
      "KS：\n",
      "Train：0.4832\n",
      "Test：0.4579\n"
     ]
    },
    {
     "data": {
      "image/png": "[encoded data removed]",
      "text/plain": [
       "<matplotlib.figure.Figure at 0x21392e91358>"
      ]
     },
     "metadata": {},
     "output_type": "display_data"
    }
   ],
   "source": [
    "# 线性 SVM\n",
    "model_metrics(linear_svc, X_train_std, X_test_std, y_train, y_test)"
   ]
  },
  {
   "cell_type": "code",
   "execution_count": 130,
   "metadata": {
    "collapsed": true
   },
   "outputs": [
    {
     "name": "stdout",
     "output_type": "stream",
     "text": [
      "准确性：\n",
      "Train：0.8659\n",
      "Test：0.7786\n",
      "召回率：\n",
      "Train：0.4737\n",
      "Test：0.2310\n",
      "f1_score：\n",
      "Train：0.6403\n",
      "Test：0.3417\n",
      "roc_auc：\n",
      "Train：0.9797\n",
      "Test：0.7461\n",
      "KS：\n",
      "Train：0.8827\n",
      "Test：0.3721\n"
     ]
    },
    {
     "data": {
      "image/png": "[encoded data removed]",
      "text/plain": [
       "<matplotlib.figure.Figure at 0x21399881f98>"
      ]
     },
     "metadata": {},
     "output_type": "display_data"
    }
   ],
   "source": [
    "# 多项式 SVM\n",
    "model_metrics(poly_svc, X_train_std, X_test_std, y_train, y_test)"
   ]
  },
  {
   "cell_type": "code",
   "execution_count": 131,
   "metadata": {
    "collapsed": true
   },
   "outputs": [
    {
     "name": "stdout",
     "output_type": "stream",
     "text": [
      "准确性：\n",
      "Train：0.8783\n",
      "Test：0.7393\n",
      "召回率：\n",
      "Train：0.6587\n",
      "Test：0.3662\n",
      "f1_score：\n",
      "Train：0.7316\n",
      "Test：0.4114\n",
      "roc_auc：\n",
      "Train：0.9131\n",
      "Test：0.6577\n",
      "KS：\n",
      "Train：0.6604\n",
      "Test：0.2896\n"
     ]
    },
    {
     "data": {
      "image/png": "[encoded data removed]",
      "text/plain": [
       "<matplotlib.figure.Figure at 0x21392eac6d8>"
      ]
     },
     "metadata": {},
     "output_type": "display_data"
    }
   ],
   "source": [
    "# 决策树\n",
    "model_metrics(dt, X_train_std, X_test_std, y_train, y_test)"
   ]
  },
  {
   "cell_type": "code",
   "execution_count": 132,
   "metadata": {
    "collapsed": true
   },
   "outputs": [
    {
     "name": "stdout",
     "output_type": "stream",
     "text": [
      "准确性：\n",
      "Train：0.8822\n",
      "Test：0.7989\n",
      "召回率：\n",
      "Train：0.5764\n",
      "Test：0.3718\n",
      "f1_score：\n",
      "Train：0.7113\n",
      "Test：0.4791\n",
      "roc_auc：\n",
      "Train：0.9520\n",
      "Test：0.8026\n",
      "KS：\n",
      "Train：0.7703\n",
      "Test：0.4738\n"
     ]
    },
    {
     "data": {
      "image/png": "[encoded data removed]",
      "text/plain": [
       "<matplotlib.figure.Figure at 0x2139989e470>"
      ]
     },
     "metadata": {},
     "output_type": "display_data"
    }
   ],
   "source": [
    "# xgboost\n",
    "model_metrics(xgb_model, X_train_std, X_test_std, y_train, y_test)"
   ]
  },
  {
   "cell_type": "code",
   "execution_count": 133,
   "metadata": {
    "collapsed": true
   },
   "outputs": [
    {
     "name": "stdout",
     "output_type": "stream",
     "text": [
      "准确性：\n",
      "Train：0.8867\n",
      "Test：0.7919\n",
      "召回率：\n",
      "Train：0.5859\n",
      "Test：0.3577\n",
      "f1_score：\n",
      "Train：0.7226\n",
      "Test：0.4610\n",
      "roc_auc：\n",
      "Train：0.9560\n",
      "Test：0.7945\n",
      "KS：\n",
      "Train：0.7699\n",
      "Test：0.4516\n"
     ]
    },
    {
     "data": {
      "image/png": "[encoded data removed]",
      "text/plain": [
       "<matplotlib.figure.Figure at 0x21392e9e438>"
      ]
     },
     "metadata": {},
     "output_type": "display_data"
    }
   ],
   "source": [
    "# lightgbm\n",
    "model_metrics(lgb_model, X_train_std, X_test_std, y_train, y_test)"
   ]
  },
  {
   "cell_type": "code",
   "execution_count": null,
   "metadata": {},
   "outputs": [],
   "source": []
  }
 ],
 "metadata": {
  "kernelspec": {
   "display_name": "Python 3",
   "language": "python",
   "name": "python3"
  },
  "language_info": {
   "codemirror_mode": {
    "name": "ipython",
    "version": 3
   },
   "file_extension": ".py",
   "mimetype": "text/x-python",
   "name": "python",
   "nbconvert_exporter": "python",
   "pygments_lexer": "ipython3",
   "version": "3.6.3"
  }
 },
 "nbformat": 4,
 "nbformat_minor": 1
}
