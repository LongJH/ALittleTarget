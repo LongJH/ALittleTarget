{
 "cells": [
  {
   "cell_type": "markdown",
   "metadata": {},
   "source": [
    "# 一个小目标 mission one\n",
    "---\n",
    "\n",
    "\n",
    "## 任务\n",
    "使用 逻辑回归 对客户逾期情况进行建模，预测用户是否会逾期\n"
   ]
  },
  {
   "cell_type": "code",
   "execution_count": 1,
   "metadata": {},
   "outputs": [],
   "source": [
    "# 导入需要的包\n",
    "import pandas as pd\n",
    "from sklearn.linear_model import LogisticRegression\n",
    "from sklearn.model_selection import train_test_split, GridSearchCV\n",
    "from sklearn.metrics import roc_auc_score, roc_curve, accuracy_score, f1_score\n",
    "from matplotlib import pyplot as plt\n",
    "\n",
    "# 设置 pandas 显示列数\n",
    "pd.set_option('display.max_columns', 10000)\n",
    "pd.set_option('display.width', 10000)"
   ]
  },
  {
   "cell_type": "markdown",
   "metadata": {},
   "source": [
    "## 1. 导入数据"
   ]
  },
  {
   "cell_type": "code",
   "execution_count": 2,
   "metadata": {},
   "outputs": [],
   "source": [
    "# 因为数据并非utf-8编码，要使用gbk编码读入，否则出错\n",
    "data = pd.read_csv('./data/data.csv', index_col=0, encoding='gbk')\n",
    "\n",
    "# 观察数据构成\n",
    "# data.head()"
   ]
  },
  {
   "cell_type": "code",
   "execution_count": 3,
   "metadata": {},
   "outputs": [
    {
     "name": "stdout",
     "output_type": "stream",
     "text": [
      "X.shape: (4754, 88)\n",
      "y 的分布\n",
      " 0    3561\n",
      "1    1193\n",
      "Name: status, dtype: int64\n"
     ]
    }
   ],
   "source": [
    "# 划分 X, y\n",
    "y = data['status']\n",
    "X = data.drop('status', axis=1)\n",
    "\n",
    "# X行数\n",
    "print('X.shape:', X.shape)\n",
    "print('y 的分布\\n', y.value_counts())"
   ]
  },
  {
   "cell_type": "markdown",
   "metadata": {},
   "source": [
    "## 2. 数据探索及特征处理\n",
    "本次任务目的在于主流程，所以数据探索部分做得比较粗糙，以后有需要再慢慢补充\n",
    "从上面数据看出，本份数据以数值型特征位数，有少数几个字符型特征，还有两个日期特征。下面一步步进行处理"
   ]
  },
  {
   "cell_type": "code",
   "execution_count": 4,
   "metadata": {},
   "outputs": [
    {
     "name": "stdout",
     "output_type": "stream",
     "text": [
      "(4754, 84)\n"
     ]
    }
   ],
   "source": [
    "# 首先剔除一些明显无用的特征，如 id_name, custid, trade_no, bank_card_no，\n",
    "# 这些优点类似一个人的唯一信息，如果加入模型训练且对最终模型生效的话，很可能就是出现了过拟合\n",
    "X.drop(['id_name', 'custid', 'trade_no', 'bank_card_no'], axis=1, inplace=True)\n",
    "print(X.shape)"
   ]
  },
  {
   "cell_type": "markdown",
   "metadata": {},
   "source": [
    "### 数值型变量"
   ]
  },
  {
   "cell_type": "code",
   "execution_count": 5,
   "metadata": {
    "scrolled": true
   },
   "outputs": [
    {
     "name": "stdout",
     "output_type": "stream",
     "text": [
      "(4754, 80)\n"
     ]
    },
    {
     "data": {
      "text/plain": [
       "student_feature                     0.630627\n",
       "cross_consume_count_last_1_month    0.089609\n",
       "latest_three_month_apply            0.063946\n",
       "query_finance_count                 0.063946\n",
       "latest_six_month_apply              0.063946\n",
       "latest_one_month_apply              0.063946\n",
       "query_cash_count                    0.063946\n",
       "query_sum_count                     0.063946\n",
       "query_org_count                     0.063946\n",
       "apply_credibility                   0.063946\n",
       "dtype: float64"
      ]
     },
     "execution_count": 5,
     "metadata": {},
     "output_type": "execute_result"
    }
   ],
   "source": [
    "# 选取数值型特征\n",
    "X_num = X.select_dtypes('number').copy()\n",
    "print(X_num.shape)\n",
    "# 查看缺失情况\n",
    "num_miss_rate = 1 - X_num.count() / len(X_num)\n",
    "num_miss_rate.sort_values(ascending=False)[:10]"
   ]
  },
  {
   "cell_type": "markdown",
   "metadata": {},
   "source": [
    "从缺失情况看出，数值型变量除了 student_feature 缺失比较高之外，其他均在 10% 以下。对此，\n",
    "\n",
    "针对 student_feature 我们需要观察一下特征情况，对于其他缺失值，我们尝试用均值代替。\n",
    "\n",
    "理论上做完缺失值填充之后，还在进行特征筛选，但这不是本次任务重点，就先略过了。"
   ]
  },
  {
   "cell_type": "code",
   "execution_count": 6,
   "metadata": {},
   "outputs": [
    {
     "name": "stdout",
     "output_type": "stream",
     "text": [
      "1.0    1754\n",
      "2.0       2\n",
      "Name: student_feature, dtype: int64\n",
      "0.0    2998\n",
      "1.0    1754\n",
      "2.0       2\n",
      "Name: student_feature, dtype: int64\n"
     ]
    }
   ],
   "source": [
    "# student_feature\n",
    "print(X_num['student_feature'].value_counts())\n",
    "# 使用一个另外的值代替缺失值，如 0\n",
    "X_num.fillna({'student_feature': 0}, inplace=True)\n",
    "# 观察填充后情况\n",
    "print(X_num['student_feature'].value_counts())"
   ]
  },
  {
   "cell_type": "code",
   "execution_count": 7,
   "metadata": {},
   "outputs": [],
   "source": [
    "# 其他数值型变量使用均值代替\n",
    "X_num.fillna(X_num.mean(), inplace=True)"
   ]
  },
  {
   "cell_type": "markdown",
   "metadata": {},
   "source": [
    "### 字符型变量\n",
    "显然，在字符型变量中，source只有一个值，无意义。而 latest_query_time 和 loans_latest_time 属于日期格式，因不知具体业务逻辑，故直接删除。\n",
    "\n",
    "最后只剩 reg_preference_for_trad，对其进行 缺失值填充（众数） 后，直接转换成哑变量"
   ]
  },
  {
   "cell_type": "code",
   "execution_count": 8,
   "metadata": {},
   "outputs": [
    {
     "data": {
      "text/html": [
       "<div>\n",
       "<style scoped>\n",
       "    .dataframe tbody tr th:only-of-type {\n",
       "        vertical-align: middle;\n",
       "    }\n",
       "\n",
       "    .dataframe tbody tr th {\n",
       "        vertical-align: top;\n",
       "    }\n",
       "\n",
       "    .dataframe thead th {\n",
       "        text-align: right;\n",
       "    }\n",
       "</style>\n",
       "<table border=\"1\" class=\"dataframe\">\n",
       "  <thead>\n",
       "    <tr style=\"text-align: right;\">\n",
       "      <th></th>\n",
       "      <th>reg_preference_for_trad</th>\n",
       "      <th>source</th>\n",
       "      <th>latest_query_time</th>\n",
       "      <th>loans_latest_time</th>\n",
       "    </tr>\n",
       "  </thead>\n",
       "  <tbody>\n",
       "    <tr>\n",
       "      <th>count</th>\n",
       "      <td>4752</td>\n",
       "      <td>4754</td>\n",
       "      <td>4450</td>\n",
       "      <td>4457</td>\n",
       "    </tr>\n",
       "    <tr>\n",
       "      <th>unique</th>\n",
       "      <td>5</td>\n",
       "      <td>1</td>\n",
       "      <td>207</td>\n",
       "      <td>232</td>\n",
       "    </tr>\n",
       "    <tr>\n",
       "      <th>top</th>\n",
       "      <td>一线城市</td>\n",
       "      <td>xs</td>\n",
       "      <td>2018-04-14</td>\n",
       "      <td>2018-05-03</td>\n",
       "    </tr>\n",
       "    <tr>\n",
       "      <th>freq</th>\n",
       "      <td>3403</td>\n",
       "      <td>4754</td>\n",
       "      <td>423</td>\n",
       "      <td>134</td>\n",
       "    </tr>\n",
       "  </tbody>\n",
       "</table>\n",
       "</div>"
      ],
      "text/plain": [
       "       reg_preference_for_trad source latest_query_time loans_latest_time\n",
       "count                     4752   4754              4450              4457\n",
       "unique                       5      1               207               232\n",
       "top                       一线城市     xs        2018-04-14        2018-05-03\n",
       "freq                      3403   4754               423               134"
      ]
     },
     "execution_count": 8,
     "metadata": {},
     "output_type": "execute_result"
    }
   ],
   "source": [
    "X_str = X.select_dtypes(exclude='number').copy()\n",
    "X_str.describe()"
   ]
  },
  {
   "cell_type": "code",
   "execution_count": 9,
   "metadata": {},
   "outputs": [
    {
     "data": {
      "text/html": [
       "<div>\n",
       "<style scoped>\n",
       "    .dataframe tbody tr th:only-of-type {\n",
       "        vertical-align: middle;\n",
       "    }\n",
       "\n",
       "    .dataframe tbody tr th {\n",
       "        vertical-align: top;\n",
       "    }\n",
       "\n",
       "    .dataframe thead th {\n",
       "        text-align: right;\n",
       "    }\n",
       "</style>\n",
       "<table border=\"1\" class=\"dataframe\">\n",
       "  <thead>\n",
       "    <tr style=\"text-align: right;\">\n",
       "      <th></th>\n",
       "      <th>一线城市</th>\n",
       "      <th>三线城市</th>\n",
       "      <th>二线城市</th>\n",
       "      <th>其他城市</th>\n",
       "      <th>境外</th>\n",
       "    </tr>\n",
       "  </thead>\n",
       "  <tbody>\n",
       "    <tr>\n",
       "      <th>5</th>\n",
       "      <td>1</td>\n",
       "      <td>0</td>\n",
       "      <td>0</td>\n",
       "      <td>0</td>\n",
       "      <td>0</td>\n",
       "    </tr>\n",
       "    <tr>\n",
       "      <th>10</th>\n",
       "      <td>1</td>\n",
       "      <td>0</td>\n",
       "      <td>0</td>\n",
       "      <td>0</td>\n",
       "      <td>0</td>\n",
       "    </tr>\n",
       "    <tr>\n",
       "      <th>12</th>\n",
       "      <td>1</td>\n",
       "      <td>0</td>\n",
       "      <td>0</td>\n",
       "      <td>0</td>\n",
       "      <td>0</td>\n",
       "    </tr>\n",
       "    <tr>\n",
       "      <th>13</th>\n",
       "      <td>0</td>\n",
       "      <td>1</td>\n",
       "      <td>0</td>\n",
       "      <td>0</td>\n",
       "      <td>0</td>\n",
       "    </tr>\n",
       "    <tr>\n",
       "      <th>14</th>\n",
       "      <td>1</td>\n",
       "      <td>0</td>\n",
       "      <td>0</td>\n",
       "      <td>0</td>\n",
       "      <td>0</td>\n",
       "    </tr>\n",
       "  </tbody>\n",
       "</table>\n",
       "</div>"
      ],
      "text/plain": [
       "    一线城市  三线城市  二线城市  其他城市  境外\n",
       "5      1     0     0     0   0\n",
       "10     1     0     0     0   0\n",
       "12     1     0     0     0   0\n",
       "13     0     1     0     0   0\n",
       "14     1     0     0     0   0"
      ]
     },
     "execution_count": 9,
     "metadata": {},
     "output_type": "execute_result"
    }
   ],
   "source": [
    "X_str['reg_preference_for_trad'] = X_str['reg_preference_for_trad'].fillna(X_str['reg_preference_for_trad'].mode()[0])\n",
    "X_str_dummy = pd.get_dummies(X_str['reg_preference_for_trad'])\n",
    "X_str_dummy.head()"
   ]
  },
  {
   "cell_type": "code",
   "execution_count": 10,
   "metadata": {},
   "outputs": [
    {
     "data": {
      "text/plain": [
       "(4754, 85)"
      ]
     },
     "execution_count": 10,
     "metadata": {},
     "output_type": "execute_result"
    }
   ],
   "source": [
    "X_cl = pd.concat([X_num, X_str_dummy], axis=1, sort=False)\n",
    "X_cl.shape"
   ]
  },
  {
   "cell_type": "markdown",
   "metadata": {},
   "source": [
    "### 3. 数据划分\n",
    "三七 分，随机种子就取今天日期吧"
   ]
  },
  {
   "cell_type": "code",
   "execution_count": 17,
   "metadata": {},
   "outputs": [
    {
     "name": "stdout",
     "output_type": "stream",
     "text": [
      "(3327, 85)\n",
      "(1427, 85)\n"
     ]
    }
   ],
   "source": [
    "random_state = 1115\n",
    "X_train, X_test, y_train, y_test = train_test_split(X_cl, y, test_size=0.3, random_state=random_state)\n",
    "print(X_train.shape)\n",
    "print(X_test.shape)"
   ]
  },
  {
   "cell_type": "markdown",
   "metadata": {},
   "source": [
    "### 4. 建模"
   ]
  },
  {
   "cell_type": "code",
   "execution_count": 18,
   "metadata": {},
   "outputs": [
    {
     "name": "stdout",
     "output_type": "stream",
     "text": [
      "{'C': 0.1, 'penalty': 'l1'}\n",
      "0.791704238052\n"
     ]
    }
   ],
   "source": [
    "# 先用网格搜索选下超参，\n",
    "# 评价参数没有给出，这次使用 f1_micro 作为评价标准\n",
    "lr = LogisticRegression()\n",
    "param_grid = {\n",
    "    'C': [0.05, 0.1, 0.5, 1, 5],\n",
    "    'penalty': ['l1', 'l2']\n",
    "}\n",
    "\n",
    "grid = GridSearchCV(lr, param_grid=param_grid, scoring='f1_micro')\n",
    "\n",
    "grid.fit(X_train, y_train)\n",
    "\n",
    "print(grid.best_params_)\n",
    "print(grid.best_score_)"
   ]
  },
  {
   "cell_type": "code",
   "execution_count": 19,
   "metadata": {},
   "outputs": [
    {
     "data": {
      "text/plain": [
       "LogisticRegression(C=0.1, class_weight=None, dual=False, fit_intercept=True,\n",
       "          intercept_scaling=1, max_iter=100, multi_class='ovr', n_jobs=1,\n",
       "          penalty='l1', random_state=None, solver='liblinear', tol=0.0001,\n",
       "          verbose=0, warm_start=False)"
      ]
     },
     "execution_count": 19,
     "metadata": {},
     "output_type": "execute_result"
    }
   ],
   "source": [
    "# 使用训练好的超参进行建模\n",
    "lr = LogisticRegression(**grid.best_params_)\n",
    "lr.fit(X_train, y_train)"
   ]
  },
  {
   "cell_type": "markdown",
   "metadata": {},
   "source": [
    "### 5. 评估\n",
    "用测试集对模型效果进行评估，主要使用 准确性，ks，auc，f1 等指标"
   ]
  },
  {
   "cell_type": "code",
   "execution_count": 20,
   "metadata": {},
   "outputs": [
    {
     "name": "stdout",
     "output_type": "stream",
     "text": [
      "准确性：\n",
      "训练集：0.8010\n",
      "测试集：0.8052\n"
     ]
    }
   ],
   "source": [
    "# 准确性\n",
    "y_train_pred = lr.predict(X_train)\n",
    "y_test_pred = lr.predict(X_test)\n",
    "\n",
    "print('准确性：')\n",
    "print('训练集：{:.4f}'.format(accuracy_score(y_train, y_train_pred)))\n",
    "print('测试集：{:.4f}'.format(accuracy_score(y_test, y_test_pred)))"
   ]
  },
  {
   "cell_type": "code",
   "execution_count": 21,
   "metadata": {},
   "outputs": [
    {
     "name": "stdout",
     "output_type": "stream",
     "text": [
      "准确性：\n",
      "训练集：0.4627\n",
      "测试集：0.4735\n"
     ]
    }
   ],
   "source": [
    "# f1_score\n",
    "y_train_pred = lr.predict(X_train)\n",
    "y_test_pred = lr.predict(X_test)\n",
    "\n",
    "print('准确性：')\n",
    "print('训练集：{:.4f}'.format(f1_score(y_train, y_train_pred)))\n",
    "print('测试集：{:.4f}'.format(f1_score(y_test, y_test_pred)))"
   ]
  },
  {
   "cell_type": "code",
   "execution_count": 22,
   "metadata": {},
   "outputs": [
    {
     "name": "stdout",
     "output_type": "stream",
     "text": [
      "ROC AUC：\n",
      "训练集：0.8048\n",
      "测试集：0.7920\n",
      "KS：\n",
      "训练集：0.4575\n",
      "测试集：0.4683\n"
     ]
    },
    {
     "data": {
      "image/png": "[encoded data removed]",
      "text/plain": [
       "<matplotlib.figure.Figure at 0x1d47c8c27b8>"
      ]
     },
     "metadata": {},
     "output_type": "display_data"
    }
   ],
   "source": [
    "# roc_auc, ks\n",
    "y_train_proba = lr.predict_proba(X_train)[:, 1]\n",
    "y_test_proba = lr.predict_proba(X_test)[:, 1]\n",
    "\n",
    "fpr_tr, tpr_tr, _ = roc_curve(y_train, y_train_proba)\n",
    "fpr_te, tpr_te, _ = roc_curve(y_test, y_test_proba)\n",
    "\n",
    "print('ROC AUC：')\n",
    "print('训练集：{:.4f}'.format(roc_auc_score(y_train, y_train_proba)))\n",
    "print('测试集：{:.4f}'.format(roc_auc_score(y_test, y_test_proba)))\n",
    "\n",
    "print('KS：')\n",
    "print('训练集：{:.4f}'.format(max(abs((fpr_tr - tpr_tr)))))\n",
    "print('测试集：{:.4f}'.format(max(abs((fpr_te - tpr_te)))))\n",
    "\n",
    "# 绘图\n",
    "plt.plot(fpr_tr, tpr_tr, 'r-',\n",
    "         label=\"训练集:AUC: {:.3f} KS:{:.3f}\".format(roc_auc_score(y_train, y_train_proba), max(abs((fpr_tr - tpr_tr)))))\n",
    "plt.plot(fpr_te, tpr_te, 'g-',\n",
    "         label=\"测试集:AUC: {:.3f} KS:{:.3f}\".format(roc_auc_score(y_test, y_test_proba),\n",
    "                                                 max(abs((fpr_tr - tpr_tr)))))\n",
    "plt.plot([0, 1], [0, 1], 'd--')\n",
    "plt.legend(loc='best')\n",
    "plt.title(\"ROC curse\")\n",
    "plt.show()"
   ]
  },
  {
   "cell_type": "code",
   "execution_count": null,
   "metadata": {},
   "outputs": [],
   "source": []
  }
 ],
 "metadata": {
  "kernelspec": {
   "display_name": "Python 3",
   "language": "python",
   "name": "python3"
  },
  "language_info": {
   "codemirror_mode": {
    "name": "ipython",
    "version": 3
   },
   "file_extension": ".py",
   "mimetype": "text/x-python",
   "name": "python",
   "nbconvert_exporter": "python",
   "pygments_lexer": "ipython3",
   "version": "3.6.3"
  }
 },
 "nbformat": 4,
 "nbformat_minor": 1
}
