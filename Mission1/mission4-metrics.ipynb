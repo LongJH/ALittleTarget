{
 "cells": [
  {
   "cell_type": "markdown",
   "metadata": {},
   "source": [
    "# 一个小目标 mission four\n",
    "---\n",
    "\n",
    "\n",
    "## 任务\n",
    "记录五个模型关于precision，rescore，f1，auc，roc的评分表格，画出auc和roc曲线图\n"
   ]
  },
  {
   "cell_type": "code",
   "execution_count": 1,
   "metadata": {},
   "outputs": [],
   "source": [
    "# 导入需要的包\n",
    "import pandas as pd\n",
    "from sklearn.model_selection import train_test_split, GridSearchCV\n",
    "from sklearn.metrics import roc_auc_score, roc_curve, accuracy_score, f1_score, classification_report\n",
    "\n",
    "\n",
    "# 设置 pandas 显示列数\n",
    "pd.set_option('display.max_columns', 10000)\n",
    "pd.set_option('display.width', 10000)"
   ]
  },
  {
   "cell_type": "markdown",
   "metadata": {},
   "source": [
    "## 1. 导入数据"
   ]
  },
  {
   "cell_type": "code",
   "execution_count": 48,
   "metadata": {},
   "outputs": [
    {
     "name": "stdout",
     "output_type": "stream",
     "text": [
      "(4754, 89)\n"
     ]
    }
   ],
   "source": [
    "# 因为数据并非utf-8编码，要使用gbk编码读入，否则出错\n",
    "data = pd.read_csv('./data/data.csv', index_col=0, encoding='gbk')\n",
    "\n",
    "# 观察数据构成\n",
    "# data.head()\n",
    "print(data.shape)"
   ]
  },
  {
   "cell_type": "code",
   "execution_count": 3,
   "metadata": {},
   "outputs": [
    {
     "name": "stdout",
     "output_type": "stream",
     "text": [
      "X.shape: (4754, 88)\n",
      "y 的分布\n",
      " 0    3561\n",
      "1    1193\n",
      "Name: status, dtype: int64\n"
     ]
    }
   ],
   "source": [
    "# 划分 X, y\n",
    "y = data['status']\n",
    "X = data.drop('status', axis=1)\n",
    "\n",
    "# X行数\n",
    "print('X.shape:', X.shape)\n",
    "print('y 的分布\\n', y.value_counts())"
   ]
  },
  {
   "cell_type": "markdown",
   "metadata": {},
   "source": [
    "## 2. 数据探索及特征处理\n",
    "本次任务目的在于主流程，所以数据探索部分做得比较粗糙，以后有需要再慢慢补充\n",
    "从上面数据看出，本份数据以数值型特征位数，有少数几个字符型特征，还有两个日期特征。下面一步步进行处理"
   ]
  },
  {
   "cell_type": "code",
   "execution_count": 4,
   "metadata": {},
   "outputs": [
    {
     "data": {
      "text/plain": [
       "(4754, 85)"
      ]
     },
     "execution_count": 4,
     "metadata": {},
     "output_type": "execute_result"
    }
   ],
   "source": [
    "# 首先剔除一些明显无用的特征，如 id_name, custid, trade_no, bank_card_no，\n",
    "# 这些优点类似一个人的唯一信息，如果加入模型训练且对最终模型生效的话，很可能就是出现了过拟合\n",
    "X.drop(['id_name', 'custid', 'trade_no', 'bank_card_no'], axis=1, inplace=True)\n",
    "\n",
    "# 数值型变量\n",
    "X_num = X.select_dtypes('number').copy()\n",
    "# student_feature\n",
    "X_num.fillna({'student_feature': 0}, inplace=True)\n",
    "# 其他数值型变量使用均值代替\n",
    "X_num.fillna(X_num.mean(), inplace=True)\n",
    "\n",
    "# 字符型变量\n",
    "X_str = X.select_dtypes(exclude='number').copy()\n",
    "X_str_dummy = pd.get_dummies(X_str['reg_preference_for_trad'])\n",
    "\n",
    "# 合并\n",
    "X_cl = pd.concat([X_num, X_str_dummy], axis=1, sort=False)\n",
    "X_cl.shape"
   ]
  },
  {
   "cell_type": "markdown",
   "metadata": {},
   "source": [
    "### 3. 数据划分\n",
    "三七 分，随机种子就取今天日期吧"
   ]
  },
  {
   "cell_type": "code",
   "execution_count": 5,
   "metadata": {},
   "outputs": [
    {
     "name": "stdout",
     "output_type": "stream",
     "text": [
      "(3327, 85)\n",
      "(1427, 85)\n"
     ]
    }
   ],
   "source": [
    "random_state = 1115\n",
    "X_train, X_test, y_train, y_test = train_test_split(X_cl, y, test_size=0.3, random_state=random_state)\n",
    "print(X_train.shape)\n",
    "print(X_test.shape)"
   ]
  },
  {
   "cell_type": "code",
   "execution_count": 6,
   "metadata": {},
   "outputs": [],
   "source": [
    "# 数据归一化\n",
    "from sklearn.preprocessing import StandardScaler\n",
    "ss = StandardScaler()\n",
    "X_train_std = ss.fit_transform(X_train)\n",
    "X_test_std = ss.transform(X_test)"
   ]
  },
  {
   "cell_type": "markdown",
   "metadata": {},
   "source": [
    "### 4. 建模\n",
    "#### model1-LR"
   ]
  },
  {
   "cell_type": "code",
   "execution_count": 28,
   "metadata": {},
   "outputs": [
    {
     "data": {
      "text/plain": [
       "LogisticRegression(C=0.05, class_weight=None, dual=False, fit_intercept=True,\n",
       "          intercept_scaling=1, max_iter=100, multi_class='ovr', n_jobs=1,\n",
       "          penalty='l1', random_state=None, solver='liblinear', tol=0.0001,\n",
       "          verbose=0, warm_start=False)"
      ]
     },
     "execution_count": 28,
     "metadata": {},
     "output_type": "execute_result"
    }
   ],
   "source": [
    "# 逻辑回归\n",
    "from sklearn.linear_model import LogisticRegression\n",
    "lr = LogisticRegression(C=0.05, penalty='l1')\n",
    "lr.fit(X_train_std, y_train)"
   ]
  },
  {
   "cell_type": "markdown",
   "metadata": {},
   "source": [
    "#### model2-svm"
   ]
  },
  {
   "cell_type": "code",
   "execution_count": 27,
   "metadata": {},
   "outputs": [
    {
     "data": {
      "text/plain": [
       "SVC(C=1.0, cache_size=200, class_weight=None, coef0=0.0,\n",
       "  decision_function_shape='ovr', degree=3, gamma='auto', kernel='linear',\n",
       "  max_iter=-1, probability=True, random_state=None, shrinking=True,\n",
       "  tol=0.001, verbose=False)"
      ]
     },
     "execution_count": 27,
     "metadata": {},
     "output_type": "execute_result"
    }
   ],
   "source": [
    "from sklearn.svm import SVC\n",
    "# 线性 SVM\n",
    "linear_svc = SVC(kernel='linear', probability=True)\n",
    "linear_svc.fit(X_train_std, y_train)"
   ]
  },
  {
   "cell_type": "code",
   "execution_count": 26,
   "metadata": {
    "scrolled": true
   },
   "outputs": [
    {
     "data": {
      "text/plain": [
       "SVC(C=1.0, cache_size=200, class_weight=None, coef0=0.0,\n",
       "  decision_function_shape='ovr', degree=3, gamma='auto', kernel='poly',\n",
       "  max_iter=-1, probability=True, random_state=None, shrinking=True,\n",
       "  tol=0.001, verbose=False)"
      ]
     },
     "execution_count": 26,
     "metadata": {},
     "output_type": "execute_result"
    }
   ],
   "source": [
    "# 多项式 SVM\n",
    "poly_svc = SVC(kernel='poly', probability=True)\n",
    "poly_svc.fit(X_train_std, y_train)"
   ]
  },
  {
   "cell_type": "markdown",
   "metadata": {},
   "source": [
    "#### model3-决策树"
   ]
  },
  {
   "cell_type": "code",
   "execution_count": 29,
   "metadata": {},
   "outputs": [
    {
     "data": {
      "text/plain": [
       "DecisionTreeClassifier(class_weight=None, criterion='gini', max_depth=8,\n",
       "            max_features=None, max_leaf_nodes=None,\n",
       "            min_impurity_decrease=0.0, min_impurity_split=None,\n",
       "            min_samples_leaf=1, min_samples_split=2,\n",
       "            min_weight_fraction_leaf=0.0, presort=False, random_state=None,\n",
       "            splitter='best')"
      ]
     },
     "execution_count": 29,
     "metadata": {},
     "output_type": "execute_result"
    }
   ],
   "source": [
    "from sklearn.tree import DecisionTreeClassifier\n",
    "# 决策树\n",
    "dt = DecisionTreeClassifier(max_depth=8)\n",
    "dt.fit(X_train_std, y_train)"
   ]
  },
  {
   "cell_type": "markdown",
   "metadata": {},
   "source": [
    "#### model4-XGBoost\n",
    "\n",
    "**安装**\n",
    "\n",
    "安装包路径：https://www.lfd.uci.edu/~gohlke/pythonlibs/#xgboost\n",
    "\n",
    "找到合适的包，使用pip安装。如 pip install xgboost-0.81-cp27-cp27m-win_amd64.whl\n",
    "\n",
    "**使用**\n",
    "\n",
    "下面所说仅仅是普通调用，然而 XGB 有很多超参数需要调整，而且这些超参对结果会产生很大的影响，这次先不展开阐述。\n",
    "\n",
    "参考：[XGBoost使用教程（纯xgboost方法）](https://blog.csdn.net/u011630575/article/details/79418138)"
   ]
  },
  {
   "cell_type": "code",
   "execution_count": 30,
   "metadata": {
    "scrolled": true
   },
   "outputs": [
    {
     "data": {
      "text/plain": [
       "XGBClassifier(base_score=0.5, booster='gbtree', colsample_bylevel=1,\n",
       "       colsample_bytree=0.8, gamma=0, learning_rate=0.1, max_delta_step=0,\n",
       "       max_depth=5, min_child_weight=1, missing=None, n_estimators=42,\n",
       "       n_jobs=1, nthread=4, objective='binary:logistic', random_state=0,\n",
       "       reg_alpha=0, reg_lambda=1, scale_pos_weight=1, seed=112,\n",
       "       silent=True, subsample=0.8)"
      ]
     },
     "execution_count": 30,
     "metadata": {},
     "output_type": "execute_result"
    }
   ],
   "source": [
    "# xgbboost\n",
    "from xgboost.sklearn import XGBClassifier\n",
    "xgb_params = {\n",
    "    'learning_rate': 0.1,\n",
    "    'n_estimators': 42,\n",
    "    'max_depth': 5,\n",
    "    'min_child_weight': 1,\n",
    "    'gamma': 0,\n",
    "    'subsample': 0.8,\n",
    "    'colsample_bytree': 0.8,\n",
    "    'objective': 'binary:logistic',\n",
    "    'nthread': 4,\n",
    "    'scale_pos_weight': 1,\n",
    "    'seed': 112\n",
    "}\n",
    "xgb_model = XGBClassifier(**xgb_params) # 迭代次数(n_estimators)已经是超参之一\n",
    "\n",
    "# 训练\n",
    "xgb_model.fit(X_train_std, y_train)"
   ]
  },
  {
   "cell_type": "markdown",
   "metadata": {},
   "source": [
    "#### model5-LightGBM\n",
    "\n",
    "**安装**\n",
    "\n",
    "使用 pip install lightgbm 直接安装\n",
    "\n",
    "**使用**\n",
    "\n",
    "这里的用法与xgb的非常类似\n",
    "\n",
    "参考：[【集成学习】lightgbm使用案例](https://www.cnblogs.com/wanglei5205/p/8654041.html)"
   ]
  },
  {
   "cell_type": "code",
   "execution_count": 31,
   "metadata": {},
   "outputs": [
    {
     "data": {
      "text/plain": [
       "LGBMClassifier(boosting_type='gbdt', class_weight=None, colsample_bytree=0.8,\n",
       "        gamma=0, importance_type='split', learning_rate=0.1, max_depth=5,\n",
       "        min_child_samples=20, min_child_weight=1, min_split_gain=0.0,\n",
       "        n_estimators=42, n_jobs=-1, nthread=4, num_leaves=31,\n",
       "        objective='binary', random_state=None, reg_alpha=0.0,\n",
       "        reg_lambda=0.0, scale_pos_weight=1, seed=112, silent=True,\n",
       "        subsample=0.8, subsample_for_bin=200000, subsample_freq=0)"
      ]
     },
     "execution_count": 31,
     "metadata": {},
     "output_type": "execute_result"
    }
   ],
   "source": [
    "# lightgbm\n",
    "from lightgbm.sklearn import LGBMClassifier\n",
    "lgb_params  = {\n",
    "    'learning_rate': 0.1,\n",
    "    'n_estimators': 42,\n",
    "    'max_depth': 5,\n",
    "    'min_child_weight': 1,\n",
    "    'gamma': 0,\n",
    "    'subsample': 0.8,\n",
    "    'colsample_bytree': 0.8,\n",
    "    'objective': 'binary', # 这里和 xgb 不一样\n",
    "    'nthread': 4,\n",
    "    'scale_pos_weight': 1,\n",
    "    'seed': 112\n",
    "}\n",
    "lgb_model = LGBMClassifier(**lgb_params) # 迭代次数(n_estimators)已经是超参之一\n",
    "\n",
    "# 训练\n",
    "lgb_model.fit(X_train_std, y_train)"
   ]
  },
  {
   "cell_type": "markdown",
   "metadata": {},
   "source": [
    "## 5. 评估"
   ]
  },
  {
   "cell_type": "code",
   "execution_count": 39,
   "metadata": {},
   "outputs": [],
   "source": [
    "from sklearn.metrics import accuracy_score, recall_score, f1_score, roc_auc_score, roc_curve\n",
    "from matplotlib import pyplot as plt\n",
    "# 定义评估函数\n",
    "def model_metrics(clf, X_train, X_test, y_train, y_test):\n",
    "    # 预测\n",
    "    y_train_pred = clf.predict(X_train)\n",
    "    y_test_pred = clf.predict(X_test)\n",
    "    y_train_pred_proba = clf.predict_proba(X_train)[:, 1]\n",
    "    y_test_pred_proba = clf.predict_proba(X_test)[:, 1]\n",
    "\n",
    "    # 评估\n",
    "    # 准确性\n",
    "    print('准确性：')\n",
    "    print('Train：{:.4f}'.format(accuracy_score(y_train, y_train_pred)))\n",
    "    print('Test：{:.4f}'.format(accuracy_score(y_test, y_test_pred)))\n",
    "\n",
    "    # 召回率\n",
    "    print('召回率：')\n",
    "    print('Train：{:.4f}'.format(recall_score(y_train, y_train_pred)))\n",
    "    print('Test：{:.4f}'.format(recall_score(y_test, y_test_pred)))\n",
    "    \n",
    "    # f1_score\n",
    "    print('f1_score：')\n",
    "    print('Train：{:.4f}'.format(f1_score(y_train, y_train_pred)))\n",
    "    print('Test：{:.4f}'.format(f1_score(y_test, y_test_pred)))\n",
    "    \n",
    "    # roc_auc\n",
    "    print('roc_auc：')\n",
    "    print('Train：{:.4f}'.format(roc_auc_score(y_train, y_train_pred_proba)))\n",
    "    print('Test：{:.4f}'.format(roc_auc_score(y_test, y_test_pred_proba)))    \n",
    "    \n",
    "    # 描绘 ROC 曲线\n",
    "    fpr_tr, tpr_tr, _ = roc_curve(y_train, y_train_pred_proba)\n",
    "    fpr_te, tpr_te, _ = roc_curve(y_test, y_test_pred_proba)\n",
    "\n",
    "    # KS\n",
    "    print('KS：')\n",
    "    print('Train：{:.4f}'.format(max(abs((fpr_tr - tpr_tr)))))\n",
    "    print('Test：{:.4f}'.format(max(abs((fpr_te - tpr_te)))))\n",
    "\n",
    "    # 绘图\n",
    "    plt.plot(fpr_tr, tpr_tr, 'r-',\n",
    "             7label=\"Train:AUC: {:.3f} KS:{:.3f}\".format(roc_auc_score(y_train, y_train_pred_proba), \n",
    "                                                        max(abs((fpr_tr - tpr_tr)))))\n",
    "    plt.plot(fpr_te, tpr_te, 'g-',\n",
    "             label=\"Test:AUC: {:.3f} KS:{:.3f}\".format(roc_auc_score(y_test, y_test_pred_proba),\n",
    "                                                     max(abs((fpr_tr - tpr_tr)))))\n",
    "    plt.plot([0, 1], [0, 1], 'd--')\n",
    "    plt.legend(loc='best')\n",
    "    plt.title(\"ROC curse\")\n",
    "    plt.show()"
   ]
  },
  {
   "cell_type": "code",
   "execution_count": 40,
   "metadata": {
    "scrolled": true
   },
   "outputs": [
    {
     "name": "stdout",
     "output_type": "stream",
     "text": [
      "准确性：\n",
      "Train：0.7986\n",
      "Test：0.8031\n",
      "召回率：\n",
      "Train：0.3198\n",
      "Test：0.3324\n",
      "f1_score：\n",
      "Train：0.4444\n",
      "Test：0.4565\n",
      "roc_auc：\n",
      "Train：0.8010\n",
      "Test：0.7911\n",
      "KS：\n",
      "Train：0.4564\n",
      "Test：0.4576\n"
     ]
    },
    {
     "data": {
      "image/png": "[encoded data removed]",
      "text/plain": [
       "<matplotlib.figure.Figure at 0x26dc741ad68>"
      ]
     },
     "metadata": {},
     "output_type": "display_data"
    }
   ],
   "source": [
    "# 逻辑回归\n",
    "model_metrics(lr, X_train_std, X_test_std, y_train, y_test)"
   ]
  },
  {
   "cell_type": "code",
   "execution_count": 44,
   "metadata": {},
   "outputs": [
    {
     "name": "stdout",
     "output_type": "stream",
     "text": [
      "准确性：\n",
      "Train：0.7944\n",
      "Test：0.7975\n",
      "召回率：\n",
      "Train：0.2542\n",
      "Test：0.2676\n",
      "f1_score：\n",
      "Train：0.3838\n",
      "Test：0.3967\n",
      "roc_auc：\n",
      "Train：0.8082\n",
      "Test：0.7894\n",
      "KS：\n",
      "Train：0.4796\n",
      "Test：0.4575\n"
     ]
    },
    {
     "data": {
      "image/png": "[encoded data removed]",
      "text/plain": [
       "<matplotlib.figure.Figure at 0x26dc7689e80>"
      ]
     },
     "metadata": {},
     "output_type": "display_data"
    }
   ],
   "source": [
    "# 线性 SVM\n",
    "model_metrics(linear_svc, X_train_std, X_test_std, y_train, y_test)"
   ]
  },
  {
   "cell_type": "code",
   "execution_count": 43,
   "metadata": {},
   "outputs": [
    {
     "name": "stdout",
     "output_type": "stream",
     "text": [
      "准确性：\n",
      "Train：0.8245\n",
      "Test：0.7687\n",
      "召回率：\n",
      "Train：0.3079\n",
      "Test：0.1577\n",
      "f1_score：\n",
      "Train：0.4691\n",
      "Test：0.2534\n",
      "roc_auc：\n",
      "Train：0.9511\n",
      "Test：0.7172\n",
      "KS：\n",
      "Train：0.8093\n",
      "Test：0.3552\n"
     ]
    },
    {
     "data": {
      "image/png": "[encoded data removed]",
      "text/plain": [
       "<matplotlib.figure.Figure at 0x26dc754b6d8>"
      ]
     },
     "metadata": {},
     "output_type": "display_data"
    }
   ],
   "source": [
    "# 多项式 SVM\n",
    "model_metrics(poly_svc, X_train_std, X_test_std, y_train, y_test)"
   ]
  },
  {
   "cell_type": "code",
   "execution_count": 45,
   "metadata": {},
   "outputs": [
    {
     "name": "stdout",
     "output_type": "stream",
     "text": [
      "准确性：\n",
      "Train：0.8777\n",
      "Test：0.7526\n",
      "召回率：\n",
      "Train：0.6539\n",
      "Test：0.4085\n",
      "f1_score：\n",
      "Train：0.7292\n",
      "Test：0.4510\n",
      "roc_auc：\n",
      "Train：0.9016\n",
      "Test：0.6573\n",
      "KS：\n",
      "Train：0.6550\n",
      "Test：0.3018\n"
     ]
    },
    {
     "data": {
      "image/png": "[encoded data removed]",
      "text/plain": [
       "<matplotlib.figure.Figure at 0x26dc757dba8>"
      ]
     },
     "metadata": {},
     "output_type": "display_data"
    }
   ],
   "source": [
    "# 决策树\n",
    "model_metrics(dt, X_train_std, X_test_std, y_train, y_test)"
   ]
  },
  {
   "cell_type": "code",
   "execution_count": 46,
   "metadata": {},
   "outputs": [
    {
     "name": "stdout",
     "output_type": "stream",
     "text": [
      "准确性：\n",
      "Train：0.8798\n",
      "Test：0.7940\n",
      "召回率：\n",
      "Train：0.5644\n",
      "Test：0.3690\n",
      "f1_score：\n",
      "Train：0.7028\n",
      "Test：0.4712\n",
      "roc_auc：\n",
      "Train：0.9525\n",
      "Test：0.7932\n",
      "KS：\n",
      "Train：0.7644\n",
      "Test：0.4342\n"
     ]
    },
    {
     "data": {
      "image/png": "[encoded data removed]",
      "text/plain": [
       "<matplotlib.figure.Figure at 0x26dc7689198>"
      ]
     },
     "metadata": {},
     "output_type": "display_data"
    }
   ],
   "source": [
    "# xgboost\n",
    "model_metrics(xgb_model, X_train_std, X_test_std, y_train, y_test)"
   ]
  },
  {
   "cell_type": "code",
   "execution_count": 47,
   "metadata": {},
   "outputs": [
    {
     "name": "stdout",
     "output_type": "stream",
     "text": [
      "准确性：\n",
      "Train：0.8843\n",
      "Test：0.7996\n",
      "召回率：\n",
      "Train：0.5776\n",
      "Test：0.3634\n",
      "f1_score：\n",
      "Train：0.7154\n",
      "Test：0.4743\n",
      "roc_auc：\n",
      "Train：0.9571\n",
      "Test：0.7991\n",
      "KS：\n",
      "Train：0.7776\n",
      "Test：0.4548\n"
     ]
    },
    {
     "data": {
      "image/png": "[encoded data removed]",
      "text/plain": [
       "<matplotlib.figure.Figure at 0x26dc7591748>"
      ]
     },
     "metadata": {},
     "output_type": "display_data"
    }
   ],
   "source": [
    "# lightgbm\n",
    "model_metrics(lgb_model, X_train_std, X_test_std, y_train, y_test)"
   ]
  },
  {
   "cell_type": "code",
   "execution_count": null,
   "metadata": {},
   "outputs": [],
   "source": [
    ""
   ]
  }
 ],
 "metadata": {
  "kernelspec": {
   "display_name": "Python 3",
   "language": "python",
   "name": "python3"
  },
  "language_info": {
   "codemirror_mode": {
    "name": "ipython",
    "version": 3.0
   },
   "file_extension": ".py",
   "mimetype": "text/x-python",
   "name": "python",
   "nbconvert_exporter": "python",
   "pygments_lexer": "ipython3",
   "version": "3.6.3"
  }
 },
 "nbformat": 4,
 "nbformat_minor": 0
}