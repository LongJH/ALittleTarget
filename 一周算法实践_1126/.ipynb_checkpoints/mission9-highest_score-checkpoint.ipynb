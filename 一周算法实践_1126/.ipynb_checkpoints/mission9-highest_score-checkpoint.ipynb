{
 "cells": [
  {
   "cell_type": "markdown",
   "metadata": {},
   "source": [
    "# Mission 9 最高得分模型\n",
    "---\n",
    "\n",
    "\n",
    "## 任务\n",
    "使用处理好的统一数据，数据三七分，随机种子2018，用AUC作为模型评价指标，构建出得分最高的模型"
   ]
  },
  {
   "cell_type": "code",
   "execution_count": 174,
   "metadata": {},
   "outputs": [],
   "source": [
    "# 导入需要的包\n",
    "import pandas as pd\n",
    "import numpy as np\n",
    "from sklearn.model_selection import train_test_split, GridSearchCV\n",
    "from sklearn.metrics import roc_auc_score, roc_curve, accuracy_score, f1_score, classification_report\n",
    "from model_config import clfs\n",
    "\n",
    "# 设置 pandas 显示列数\n",
    "pd.set_option('display.max_columns', 10000)\n",
    "pd.set_option('display.width', 10000)"
   ]
  },
  {
   "cell_type": "markdown",
   "metadata": {},
   "source": [
    "## 1. 导入数据，2. 特征处理"
   ]
  },
  {
   "cell_type": "code",
   "execution_count": 175,
   "metadata": {},
   "outputs": [
    {
     "name": "stdout",
     "output_type": "stream",
     "text": [
      "X.shape: (4754, 84)\n",
      "y 的分布\n",
      " 0    3561\n",
      "1    1193\n",
      "Name: status, dtype: int64\n"
     ]
    }
   ],
   "source": [
    "# 使用处理好的统一数据存在 data_all.csv 中\n",
    "data_all = pd.read_csv('./data/data_all.csv')\n",
    "\n",
    "X_cl = data_all.drop('status', axis=1)\n",
    "y = data_all['status']\n",
    "\n",
    "# 数据构成\n",
    "print('X.shape:', X_cl.shape)\n",
    "print('y 的分布\\n', y.value_counts())"
   ]
  },
  {
   "cell_type": "markdown",
   "metadata": {},
   "source": [
    "### 2.1 使用 IV 值进行特征筛选\n"
   ]
  },
  {
   "cell_type": "code",
   "execution_count": 176,
   "metadata": {},
   "outputs": [],
   "source": [
    "# 计算 IV 函数\n",
    "def cal_iv(x, y, n_bins=6, null_value=np.nan,):\n",
    "    # 剔除空值\n",
    "    x = x[x != null_value]\n",
    "    \n",
    "    # 若 x 只有一个值，返回 0\n",
    "    if len(x.unique()) == 1 or len(x) != len(y):\n",
    "        return 0\n",
    "    \n",
    "    if x.dtype == np.number:\n",
    "        # 数值型变量\n",
    "        if x.nunique() > n_bins:\n",
    "            # 若 nunique 大于箱数，进行分箱\n",
    "            x = pd.qcut(x, q=n_bins, duplicates='drop')\n",
    "                \n",
    "    # 计算IV\n",
    "    groups = x.groupby([x, list(y)]).size().unstack().fillna(0)\n",
    "    t0, t1 = y.value_counts().index\n",
    "#     if null_value is not np.nan:\n",
    "#         groups = groups.loc[groups.index != null_value, :]\n",
    "    groups = groups / groups.sum()\n",
    "    not_zero_index = (groups[t0] > 0) & (groups[t1] > 0)\n",
    "    groups['iv_i'] = (groups[t0] - groups[t1]) * np.log(groups[t0] / groups[t1])\n",
    "#     groups.loc[~not_zero_index, 'iv_i'] = 0\n",
    "#     groups['woe'] = np.log(groups[t0] / groups[t1])\n",
    "#     groups.loc[~not_zero_index, 'woe'] = 0\n",
    "    iv = sum(groups['iv_i'])\n",
    "#     woe_map = groups['woe']\n",
    "\n",
    "    return iv"
   ]
  },
  {
   "cell_type": "code",
   "execution_count": 5,
   "metadata": {
    "scrolled": true
   },
   "outputs": [
    {
     "name": "stderr",
     "output_type": "stream",
     "text": [
      "D:\\Anaconda3\\lib\\site-packages\\ipykernel_launcher.py:23: RuntimeWarning: divide by zero encountered in log\n"
     ]
    },
    {
     "name": "stdout",
     "output_type": "stream",
     "text": [
      "railway_consume_count_last_12_month                inf\n",
      "trans_fail_top_count_enum_last_1_month        0.543839\n",
      "history_fail_fee                              0.471590\n",
      "loans_score                                   0.420497\n",
      "apply_score                                   0.384890\n",
      "loans_overdue_count                           0.337394\n",
      "trans_fail_top_count_enum_last_12_month       0.247247\n",
      "trans_fail_top_count_enum_last_6_month        0.230486\n",
      "latest_one_month_fail                         0.218789\n",
      "rank_trad_1_month                             0.110358\n",
      "max_cumulative_consume_later_1_month          0.108685\n",
      "latest_one_month_suc                          0.099296\n",
      "trans_day_last_12_month                       0.093933\n",
      "top_trans_count_last_1_month                  0.065120\n",
      "pawns_auctions_trusts_consume_last_1_month    0.050321\n",
      "consfin_avg_limit                             0.048600\n",
      "consume_mini_time_last_1_month                0.042679\n",
      "trans_amount_3_month                          0.041933\n",
      "trans_top_time_last_1_month                   0.038378\n",
      "consfin_credit_limit                          0.037982\n",
      "consume_top_time_last_1_month                 0.037667\n",
      "latest_query_day                              0.034389\n",
      "avg_price_last_12_month                       0.033462\n",
      "avg_price_top_last_12_valid_month             0.030315\n",
      "latest_six_month_loan                         0.025327\n",
      "consfin_max_limit                             0.023851\n",
      "middle_volume_percent                         0.021007\n",
      "query_cash_count                              0.019531\n",
      "trans_days_interval                           0.019007\n",
      "first_transaction_time                        0.018736\n",
      "                                                ...   \n",
      "trans_top_time_last_6_month                   0.009219\n",
      "consume_top_time_last_6_month                 0.008958\n",
      "low_volume_percent                            0.008879\n",
      "loans_credibility_limit                       0.008562\n",
      "regional_mobility                             0.007948\n",
      "loans_credit_limit                            0.007830\n",
      "loans_credibility_behavior                    0.007701\n",
      "historical_trans_day                          0.007548\n",
      "loans_avg_limit                               0.006922\n",
      "history_suc_fee                               0.006732\n",
      "trans_activity_day                            0.006238\n",
      "reg_preference_for_trad                       0.006084\n",
      "query_org_count                               0.006049\n",
      "apply_credibility                             0.005979\n",
      "is_high_user                                  0.005614\n",
      "consfin_credibility                           0.005434\n",
      "cross_consume_count_last_1_month              0.005379\n",
      "loans_settle_count                            0.005211\n",
      "avg_consume_less_12_valid_month               0.004850\n",
      "repayment_capability                          0.004515\n",
      "latest_one_month_loan                         0.004318\n",
      "transd_mcc                                    0.004236\n",
      "trans_activity_month                          0.003993\n",
      "take_amount_in_later_12_month_highest         0.003530\n",
      "loans_latest_time_weekday                     0.003288\n",
      "query_finance_count                           0.003058\n",
      "query_sum_count                               0.002864\n",
      "latest_query_time_weekday                     0.002770\n",
      "latest_six_month_apply                        0.002693\n",
      "jewelry_consume_count_last_6_month            0.000000\n",
      "Length: 84, dtype: float64\n"
     ]
    }
   ],
   "source": [
    "# 统计每个特征对应的 iv 值\n",
    "fea_iv = X_cl.apply(lambda x: cal_iv(x, y), axis=0).sort_values(ascending=False)\n",
    "print(fea_iv)"
   ]
  },
  {
   "cell_type": "code",
   "execution_count": 10,
   "metadata": {},
   "outputs": [
    {
     "data": {
      "text/plain": [
       "Index(['railway_consume_count_last_12_month', 'trans_fail_top_count_enum_last_1_month', 'history_fail_fee', 'loans_score', 'apply_score', 'loans_overdue_count', 'trans_fail_top_count_enum_last_12_month', 'trans_fail_top_count_enum_last_6_month', 'latest_one_month_fail', 'rank_trad_1_month', 'max_cumulative_consume_later_1_month', 'latest_one_month_suc', 'trans_day_last_12_month', 'top_trans_count_last_1_month', 'pawns_auctions_trusts_consume_last_1_month'], dtype='object')"
      ]
     },
     "execution_count": 10,
     "metadata": {},
     "output_type": "execute_result"
    }
   ],
   "source": [
    "# 筛选 IV > 0.1 的特征\n",
    "imp_fea_iv = fea_iv[fea_iv > 0.05].index\n",
    "imp_fea_iv"
   ]
  },
  {
   "cell_type": "markdown",
   "metadata": {},
   "source": [
    "### 2.2 使用 随机森林 进行特征筛选"
   ]
  },
  {
   "cell_type": "code",
   "execution_count": 7,
   "metadata": {},
   "outputs": [
    {
     "name": "stdout",
     "output_type": "stream",
     "text": [
      "trans_fail_top_count_enum_last_1_month        0.059016\n",
      "history_fail_fee                              0.036254\n",
      "latest_one_month_fail                         0.034184\n",
      "apply_score                                   0.027353\n",
      "loans_score                                   0.025412\n",
      "avg_price_last_12_month                       0.020202\n",
      "trans_day_last_12_month                       0.019755\n",
      "trans_fail_top_count_enum_last_6_month        0.019093\n",
      "repayment_capability                          0.018572\n",
      "trans_amount_increase_rate_lately             0.017475\n",
      "abs                                           0.017383\n",
      "trans_fail_top_count_enum_last_12_month       0.016587\n",
      "first_transaction_time                        0.016520\n",
      "trans_amount_3_month                          0.016383\n",
      "first_transaction_day                         0.016245\n",
      "max_cumulative_consume_later_1_month          0.014932\n",
      "trans_days_interval                           0.014626\n",
      "loans_overdue_count                           0.014334\n",
      "pawns_auctions_trusts_consume_last_6_month    0.014057\n",
      "latest_query_day                              0.013880\n",
      "loans_settle_count                            0.013631\n",
      "consfin_credit_limit                          0.013296\n",
      "query_sum_count                               0.013144\n",
      "trans_top_time_last_6_month                   0.012862\n",
      "trans_activity_day                            0.012729\n",
      "take_amount_in_later_12_month_highest         0.012672\n",
      "history_suc_fee                               0.012614\n",
      "loans_avg_limit                               0.012332\n",
      "consume_top_time_last_6_month                 0.012320\n",
      "loans_latest_day                              0.012035\n",
      "                                                ...   \n",
      "loans_credit_limit                            0.009010\n",
      "query_finance_count                           0.008653\n",
      "loans_product_count                           0.008632\n",
      "loans_credibility_behavior                    0.008592\n",
      "consfin_max_limit                             0.008513\n",
      "latest_one_month_apply                        0.008433\n",
      "consfin_org_count_behavior                    0.008323\n",
      "loans_count                                   0.008282\n",
      "low_volume_percent                            0.008248\n",
      "query_cash_count                              0.008128\n",
      "loans_latest_time_month                       0.007975\n",
      "avg_price_top_last_12_valid_month             0.007934\n",
      "top_trans_count_last_1_month                  0.007865\n",
      "latest_three_month_loan                       0.007785\n",
      "query_org_count                               0.006876\n",
      "latest_query_time_weekday                     0.006751\n",
      "consfin_org_count_current                     0.006657\n",
      "consfin_product_count                         0.006621\n",
      "loans_cash_count                              0.006124\n",
      "latest_query_time_month                       0.006011\n",
      "loans_org_count_current                       0.005486\n",
      "loans_latest_time_weekday                     0.005381\n",
      "avg_consume_less_12_valid_month               0.005059\n",
      "regional_mobility                             0.004309\n",
      "cross_consume_count_last_1_month              0.004054\n",
      "latest_one_month_loan                         0.004020\n",
      "reg_preference_for_trad                       0.003019\n",
      "jewelry_consume_count_last_6_month            0.000529\n",
      "is_high_user                                  0.000240\n",
      "railway_consume_count_last_12_month           0.000097\n",
      "Length: 84, dtype: float64\n"
     ]
    }
   ],
   "source": [
    "from sklearn.ensemble import RandomForestClassifier\n",
    "\n",
    "rf = RandomForestClassifier()\n",
    "rf.fit(X_cl, y)\n",
    "\n",
    "rf_impc = pd.Series(rf.feature_importances_, index=X_cl.columns).sort_values(ascending=False)\n",
    "print(rf_impc)"
   ]
  },
  {
   "cell_type": "code",
   "execution_count": 8,
   "metadata": {},
   "outputs": [
    {
     "data": {
      "text/plain": [
       "Index(['trans_fail_top_count_enum_last_1_month', 'history_fail_fee', 'latest_one_month_fail', 'apply_score', 'loans_score', 'avg_price_last_12_month', 'trans_day_last_12_month', 'trans_fail_top_count_enum_last_6_month', 'repayment_capability', 'trans_amount_increase_rate_lately', 'abs', 'trans_fail_top_count_enum_last_12_month', 'first_transaction_time', 'trans_amount_3_month', 'first_transaction_day'], dtype='object')"
      ]
     },
     "execution_count": 8,
     "metadata": {},
     "output_type": "execute_result"
    }
   ],
   "source": [
    "# 筛选 重要性前十五 个特征\n",
    "imp_fea_rf = rf_impc.index[:15]\n",
    "imp_fea_rf"
   ]
  },
  {
   "cell_type": "code",
   "execution_count": 55,
   "metadata": {},
   "outputs": [],
   "source": [
    "# fea_iv.to_csv('iv_by_long.csv')\n",
    "# rf_impc.to_csv('rf_by_long.csv')"
   ]
  },
  {
   "cell_type": "code",
   "execution_count": 11,
   "metadata": {},
   "outputs": [
    {
     "data": {
      "text/plain": [
       "(4754, 22)"
      ]
     },
     "execution_count": 11,
     "metadata": {},
     "output_type": "execute_result"
    }
   ],
   "source": [
    "# 合并特征并筛选出有用特征\n",
    "imp_fea = list(set(imp_fea_iv) | set(imp_fea_rf))\n",
    "X_imp = X_cl[imp_fea]\n",
    "X_imp.shape"
   ]
  },
  {
   "cell_type": "markdown",
   "metadata": {},
   "source": [
    "## 3. 数据划分\n",
    "为了避免训练集太少，使用 二八 分"
   ]
  },
  {
   "cell_type": "code",
   "execution_count": 12,
   "metadata": {},
   "outputs": [
    {
     "name": "stdout",
     "output_type": "stream",
     "text": [
      "(3327, 84)\n",
      "(1427, 84)\n"
     ]
    }
   ],
   "source": [
    "from sklearn.model_selection import train_test_split\n",
    "random_state = 2018\n",
    "X_train, X_test, y_train, y_test = train_test_split(X_cl, y, test_size=0.3, random_state=random_state)\n",
    "print(X_train.shape)\n",
    "print(X_test.shape)"
   ]
  },
  {
   "cell_type": "code",
   "execution_count": 178,
   "metadata": {},
   "outputs": [],
   "source": [
    "# 数据归一化\n",
    "from sklearn.preprocessing import StandardScaler\n",
    "# ss = StandardScaler()\n",
    "# X_train_std = ss.fit_transform(X_train[imp_fea])\n",
    "# X_test_std = ss.transform(X_test[imp_fea])\n",
    "X_train_std = ss.fit_transform(X_train)\n",
    "X_test_std = ss.transform(X_test)"
   ]
  },
  {
   "cell_type": "markdown",
   "metadata": {},
   "source": [
    "## 4. 建模，5. 调参\n",
    "假设已经将经过调完参数的模型存放在 model_config 的 clfs 中"
   ]
  },
  {
   "cell_type": "code",
   "execution_count": 148,
   "metadata": {},
   "outputs": [],
   "source": [
    "from sklearn.model_selection import GridSearchCV\n",
    "# 调参\n",
    "def grid_fit(estimator, X, y, param_grid, scoring='roc_auc', cv=5, n_jobs=-1):\n",
    "    \"\"\"使用 gridsearsh 对 xbg 模型进行超参选择\"\"\"\n",
    "    st = time.time()\n",
    "    grid = GridSearchCV(estimator, param_grid=param_grid, cv=cv, scoring=scoring, n_jobs=n_jobs)\n",
    "    grid.fit(X, y)\n",
    "    et = time.time()\n",
    "\n",
    "    print(\"分数：{:.4f}，参数{}，耗时{:.2f}s\".format(grid.best_score_, grid.best_params_, et - st))\n",
    "    return grid.best_params_"
   ]
  },
  {
   "cell_type": "markdown",
   "metadata": {},
   "source": [
    "### LR"
   ]
  },
  {
   "cell_type": "code",
   "execution_count": 138,
   "metadata": {},
   "outputs": [
    {
     "name": "stdout",
     "output_type": "stream",
     "text": [
      "分数：0.7892，参数{'class_weight': 'balanced'}，耗时4.80s\n"
     ]
    }
   ],
   "source": [
    "from sklearn.linear_model import LogisticRegression\n",
    "\n",
    "best_params = {}\n",
    "lr = LogisticRegression(random_state=2018)\n",
    "\n",
    "params_rough = {\n",
    "    'class_weight': [None, 'balanced'],\n",
    "}\n",
    "\n",
    "this_params = grid_fit(lr, X_train_std, y_train, params_rough)\n",
    "# 分数：0.7892，参数{'class_weight': 'balanced'}，耗时5.01s\n",
    "best_params.update(**this_params)"
   ]
  },
  {
   "cell_type": "code",
   "execution_count": 139,
   "metadata": {},
   "outputs": [
    {
     "name": "stdout",
     "output_type": "stream",
     "text": [
      "分数：0.7977，参数{'C': 0.03, 'penalty': 'l1'}，耗时7.31s\n"
     ]
    }
   ],
   "source": [
    "# 正则化项\n",
    "params_rough = {\n",
    "    'C': [i/100 for i in range(1, 10)],\n",
    "    'penalty': ['l1', 'l2']\n",
    "}\n",
    "\n",
    "this_params = grid_fit(lr.set_params(**best_params), X_train_std, y_train, params_rough)\n",
    "\n",
    "best_params.update(**this_params)"
   ]
  },
  {
   "cell_type": "code",
   "execution_count": 155,
   "metadata": {},
   "outputs": [
    {
     "name": "stdout",
     "output_type": "stream",
     "text": [
      "roc_auc：\n",
      "Train：0.8101\n",
      "Test：0.7820\n",
      "KS：\n",
      "Train：0.4815\n",
      "Test：0.4301\n"
     ]
    },
    {
     "data": {
      "image/png": "[encoded data removed]",
      "text/plain": [
       "<matplotlib.figure.Figure at 0x1ac6f98dd68>"
      ]
     },
     "metadata": {},
     "output_type": "display_data"
    }
   ],
   "source": [
    "lr = lr.set_params(**best_params)\n",
    "lr.fit(X_train_std, y_train)\n",
    "\n",
    "# 评估 模型\n",
    "model_metrics(lr, X_train_std, X_test_std, y_train, y_test)"
   ]
  },
  {
   "cell_type": "markdown",
   "metadata": {},
   "source": [
    "### LightGBM"
   ]
  },
  {
   "cell_type": "code",
   "execution_count": 14,
   "metadata": {},
   "outputs": [],
   "source": [
    "from sklearn.linear_model import LogisticRegression\n",
    "from sklearn.svm import SVC\n",
    "from sklearn.tree import DecisionTreeClassifier\n",
    "from xgboost.sklearn import XGBClassifier\n",
    "from lightgbm.sklearn import LGBMClassifier\n",
    "\n",
    "# 读取模型\n",
    "lr = clfs.get('lr')\n",
    "linear_svc = clfs.get('linear_svc')\n",
    "poly_svc = clfs.get('poly_svc')\n",
    "dt = clfs.get('dt')\n",
    "xgb_model = clfs.get('xgb')\n",
    "lgb_model = clfs.get('lgb')"
   ]
  },
  {
   "cell_type": "code",
   "execution_count": 115,
   "metadata": {},
   "outputs": [],
   "source": [
    "best_params = {\n",
    "    'learning_rate': 0.1,\n",
    "    'n_estimators': 1000,\n",
    "    'max_depth': 5,\n",
    "    'min_child_weight': 1,\n",
    "    'gamma': 0,\n",
    "    'subsample': 0.8,\n",
    "    'colsample_bytree': 0.8,\n",
    "    'nthread': 4,\n",
    "    'scale_pos_weight': 1,\n",
    "    'seed': 2018\n",
    "}\n",
    "\n",
    "lgb_model = LGBMClassifier(**best_params)"
   ]
  },
  {
   "cell_type": "code",
   "execution_count": 117,
   "metadata": {},
   "outputs": [],
   "source": [
    "import lightgbm as lgb\n",
    "import time\n",
    "# 寻找最优迭代次数\n",
    "def lgb_fit(alg, X, y, useTrainCV=True, cv_folds=5, early_stopping_rounds=50):\n",
    "    \"\"\"定义一个函数帮助产生xgboost模型及其效果\"\"\"\n",
    "    if useTrainCV:\n",
    "        lgb_param = alg.get_params()\n",
    "        lgtrain = lgb.Dataset(X, label=y.values)\n",
    "        cvresult = lgb.cv(lgb_param, lgtrain, num_boost_round=alg.get_params()['n_estimators'], nfold=cv_folds,\n",
    "                          metrics='auc', early_stopping_rounds=early_stopping_rounds, verbose_eval=10)\n",
    "        # print(cvresult)\n",
    "        alg.set_params(n_estimators=pd.DataFrame(cvresult).shape[0])\n",
    "\n",
    "    # Print cvresult:\n",
    "    print(\"\\ncvresult\")\n",
    "    print(cvresult)\n",
    "    return alg\n",
    "\n",
    "# 调参\n",
    "def lgb_grid_fit(X, y, basic_params, param_grid, scoring='roc_auc', cv=5, n_jobs=-1, iid=False):\n",
    "    \"\"\"使用 gridsearsh 对 xbg 模型进行超参选择\"\"\"\n",
    "    st = time.time()\n",
    "    grid = GridSearchCV(LGBMClassifier(**basic_params), param_grid=param_grid, cv=cv,\n",
    "                        scoring=scoring, n_jobs=n_jobs, iid=iid)\n",
    "    grid.fit(X, y)\n",
    "    et = time.time()\n",
    "\n",
    "    print(\"分数：{:.4f}，参数{}，耗时{:.2f}s\".format(grid.best_score_, grid.best_params_, et - st))\n",
    "    return grid.best_params_\n"
   ]
  },
  {
   "cell_type": "code",
   "execution_count": 118,
   "metadata": {
    "scrolled": true
   },
   "outputs": [
    {
     "name": "stderr",
     "output_type": "stream",
     "text": [
      "D:\\Anaconda3\\lib\\site-packages\\lightgbm\\engine.py:426: UserWarning: Found `n_estimators` in params. Will use it instead of argument\n",
      "  warnings.warn(\"Found `{}` in params. Will use it instead of argument\".format(alias))\n",
      "D:\\Anaconda3\\lib\\site-packages\\lightgbm\\basic.py:721: UserWarning: silent keyword has been found in `params` and will be ignored.\n",
      "Please use silent argument of the Dataset constructor to pass this parameter.\n",
      "  .format(key))\n"
     ]
    },
    {
     "name": "stdout",
     "output_type": "stream",
     "text": [
      "[10]\tcv_agg's auc: 0.787378 + 0.0228855\n",
      "[20]\tcv_agg's auc: 0.799008 + 0.0176722\n",
      "[30]\tcv_agg's auc: 0.798455 + 0.0179847\n",
      "[40]\tcv_agg's auc: 0.796304 + 0.0185875\n",
      "[50]\tcv_agg's auc: 0.794562 + 0.019049\n",
      "[60]\tcv_agg's auc: 0.792552 + 0.01926\n",
      "[70]\tcv_agg's auc: 0.789543 + 0.0186376\n",
      "\n",
      "cvresult\n",
      "{'auc-mean': [0.68607769816476283, 0.74938454761802775, 0.76856882926152692, 0.77381127470510758, 0.778868913907939, 0.78365592389644922, 0.78472783046307104, 0.7850529355376239, 0.7867816800778018, 0.78737795386658394, 0.79012646368483563, 0.79162692039068339, 0.79289462904694419, 0.79498424065695106, 0.79688518209726777, 0.79701602303288299, 0.79734663030682895, 0.79822243531970216, 0.79829626768064343, 0.79900781922767705, 0.79885109419955758, 0.79946012746745132, 0.79965574569803011], 'auc-stdv': [0.013539931885568799, 0.025809130476974303, 0.028678948196695232, 0.028950251122856027, 0.02568996491054585, 0.024041768413340544, 0.024538919805241838, 0.026244955610358355, 0.024306378799398471, 0.022885503555982806, 0.021035297136956711, 0.018216488210649803, 0.019125082648595481, 0.018123032083832733, 0.017410573133699234, 0.017973343293730334, 0.017990689922812348, 0.018045100177707555, 0.018027323569767086, 0.0176722450704241, 0.017694217883920151, 0.017405781127527602, 0.018097508151015757]}\n"
     ]
    }
   ],
   "source": [
    "lgb_model = lgb_fit(lgb_model, X_train_std, y_train)\n",
    "best_params.update(n_estimators=lgb_model.n_estimators)"
   ]
  },
  {
   "cell_type": "code",
   "execution_count": 119,
   "metadata": {},
   "outputs": [
    {
     "name": "stdout",
     "output_type": "stream",
     "text": [
      "分数：0.7999，参数{'class_weight': None}，耗时4.75s\n"
     ]
    }
   ],
   "source": [
    "# class_weight\n",
    "params_rough = {\n",
    "    'class_weight': [None, 'balanced'],\n",
    "}\n",
    " \n",
    "this_params = lgb_grid_fit(X_train_std, y_train, best_params, params_rough)"
   ]
  },
  {
   "cell_type": "code",
   "execution_count": 121,
   "metadata": {},
   "outputs": [
    {
     "name": "stdout",
     "output_type": "stream",
     "text": [
      "分数：0.8011，参数{'max_depth': 3, 'min_child_weight': 8}，耗时6.13s\n"
     ]
    }
   ],
   "source": [
    "# max_depth(5; 3~10)和min_child_weight(1; 1~10)\n",
    "params_rough = {\n",
    "    'max_depth': [3, 5, 7, 9],\n",
    "    'min_child_weight': [2, 4, 6, 8]\n",
    "}\n",
    "\n",
    "params_tiny = {\n",
    "    'max_depth': [2, 3, 4],\n",
    "    'min_child_weight': [8, 9, 10]\n",
    "}\n",
    " \n",
    "this_params = lgb_grid_fit(X_train_std, y_train, best_params, params_tiny)\n",
    " \n",
    "# 粗调结果：分数：0.7948，参数{'max_depth': 5, 'min_child_weight': 2}，耗时6.37s\n",
    "# 精调结果：分数：0.8011，参数{'max_depth': 3, 'min_child_weight': 8}，耗时6.13s\n",
    "best_params.update(**this_params)"
   ]
  },
  {
   "cell_type": "code",
   "execution_count": 123,
   "metadata": {},
   "outputs": [
    {
     "name": "stdout",
     "output_type": "stream",
     "text": [
      "分数：0.8011，参数{'gamma': 0.0}，耗时5.08s\n"
     ]
    }
   ],
   "source": [
    "# gamma\n",
    "params_rough = {\n",
    "    'gamma': [2 * i for i in range(5)],\n",
    "}\n",
    "params_tiny = {\n",
    "    'gamma': [2 * i / 10.0 for i in range(5)],\n",
    "}\n",
    "\n",
    "this_params = lgb_grid_fit(X_train_std, y_train, best_params, params_tiny)\n",
    "\n",
    "# 粗调结果：分数：0.8011，参数{'gamma': 0}，耗时4.84s\n",
    "# 精调结果：分数：0.8011，参数{'gamma': 0.0}，耗时5.08s\n",
    "best_params.update(**this_params)"
   ]
  },
  {
   "cell_type": "code",
   "execution_count": 126,
   "metadata": {},
   "outputs": [
    {
     "name": "stdout",
     "output_type": "stream",
     "text": [
      "分数：0.8011，参数{'colsample_bytree': 0.8, 'subsample': 0.4}，耗时10.10s\n"
     ]
    }
   ],
   "source": [
    "# subsample(0.8; 0.5~1.0)和 colsample_bytree(0.8; 0.5~1.0)\n",
    "params_rough = {\n",
    "    'subsample': [i / 10.0 + 0.4 for i in range(5)],\n",
    "    'colsample_bytree': [i / 10.0 + 0.4 for i in range(5)],\n",
    "}\n",
    "params_tiny = {\n",
    "    'colsample_bytree': [0.75, 0.8, 0.85],\n",
    "    'subsample': [0.35, 0.4, 0.45],\n",
    "}\n",
    "\n",
    "this_params = lgb_grid_fit(X_train_std, y_train, best_params, params_rough)\n",
    "\n",
    "# 粗调结果：分数：0.8011，参数{'colsample_bytree': 0.8, 'subsample': 0.4}，耗时10.82s\n",
    "# 精调结果：分数：0.8011，参数{'colsample_bytree': 0.8, 'subsample': 0.4}，耗时10.10s\n",
    "best_params.update(**this_params)"
   ]
  },
  {
   "cell_type": "code",
   "execution_count": 128,
   "metadata": {},
   "outputs": [
    {
     "name": "stdout",
     "output_type": "stream",
     "text": [
      "分数：0.8012，参数{'reg_alpha': 0, 'reg_lambda': 0.01}，耗时8.74s\n"
     ]
    }
   ],
   "source": [
    "# reg_alpha(0.0; 0.5~1.0)和 reg_lambda(0.0; 0.5~1.0)\n",
    "params_rough = {\n",
    "    'reg_alpha': [0, 0.5, 1, 5, 10],\n",
    "    'reg_lambda': [0, 0.5, 1, 5, 10],\n",
    "}\n",
    "params_tiny = {\n",
    "    'reg_alpha': [0, 0.01, 0.05, 0.1],\n",
    "    'reg_lambda': [0, 0.01, 0.05, 0.1],\n",
    "}\n",
    "\n",
    "this_params = lgb_grid_fit(X_train_std, y_train, best_params, params_tiny)\n",
    "\n",
    "# 粗调结果：分数：0.8011，参数{'reg_alpha': 0, 'reg_lambda': 0}，耗时10.72s\n",
    "# 精调结果：分数：0.8012，参数{'reg_alpha': 0, 'reg_lambda': 0.01}，耗时8.74s\n",
    "best_params.update(**this_params)"
   ]
  },
  {
   "cell_type": "code",
   "execution_count": 129,
   "metadata": {
    "scrolled": true
   },
   "outputs": [
    {
     "name": "stderr",
     "output_type": "stream",
     "text": [
      "D:\\Anaconda3\\lib\\site-packages\\lightgbm\\engine.py:426: UserWarning: Found `n_estimators` in params. Will use it instead of argument\n",
      "  warnings.warn(\"Found `{}` in params. Will use it instead of argument\".format(alias))\n",
      "D:\\Anaconda3\\lib\\site-packages\\lightgbm\\basic.py:721: UserWarning: silent keyword has been found in `params` and will be ignored.\n",
      "Please use silent argument of the Dataset constructor to pass this parameter.\n",
      "  .format(key))\n"
     ]
    },
    {
     "name": "stdout",
     "output_type": "stream",
     "text": [
      "[10]\tcv_agg's auc: 0.769891 + 0.0213894\n",
      "[20]\tcv_agg's auc: 0.782611 + 0.0192838\n",
      "[30]\tcv_agg's auc: 0.789178 + 0.0197625\n",
      "[40]\tcv_agg's auc: 0.793894 + 0.0194338\n",
      "[50]\tcv_agg's auc: 0.797271 + 0.0184063\n",
      "[60]\tcv_agg's auc: 0.799222 + 0.0172116\n",
      "[70]\tcv_agg's auc: 0.8001 + 0.0166072\n",
      "[80]\tcv_agg's auc: 0.801154 + 0.0163812\n",
      "[90]\tcv_agg's auc: 0.801639 + 0.0154861\n",
      "[100]\tcv_agg's auc: 0.801109 + 0.0151574\n",
      "[110]\tcv_agg's auc: 0.800912 + 0.0149557\n",
      "[120]\tcv_agg's auc: 0.800915 + 0.0147925\n",
      "[130]\tcv_agg's auc: 0.800293 + 0.0150012\n",
      "\n",
      "cvresult\n",
      "{'auc-mean': [0.67383629003234247, 0.73561013480517845, 0.75304187815677093, 0.7601091292012141, 0.76242295802395577, 0.76525170599158221, 0.76572210090553239, 0.76885940317748802, 0.76881761944234606, 0.76989064160350118, 0.77432291398493502, 0.77606337440881767, 0.77748126184840349, 0.77810279166795282, 0.77797152807133507, 0.77871322047053315, 0.77936713903917598, 0.77966282046576862, 0.78195548398393333, 0.78261146503723766, 0.78342606203927501, 0.78416167890248567, 0.78483923594570848, 0.78515809149606164, 0.78612344079220997, 0.78682070653670932, 0.78702093930164074, 0.78834076835799294, 0.78863124466868606, 0.78917835950048976, 0.79015874582877055, 0.79052580419931195, 0.79215133939937699, 0.79210368146451537, 0.79233669425605269, 0.79290478687535304, 0.79325938679861552, 0.79347984300051588, 0.79398212110194932, 0.79389430095098812, 0.79495383578863388, 0.79549548341900722, 0.79577851526676835, 0.79569178227358872, 0.79662529203172405, 0.79661733874109253, 0.79669234661842125, 0.7968322174058039, 0.79686105593021594, 0.79727062374645197, 0.79733716465712123, 0.79765991479410836, 0.79772391737266179, 0.79771781803051156, 0.79823494937759687, 0.79817417212766539, 0.79847594398361343, 0.79890308754151262, 0.7991698806684906, 0.7992220678419657, 0.79955023036814454, 0.79950106649025821, 0.79949981986021723, 0.79977186586058002, 0.80008368339468416, 0.8003568422460654, 0.8004608536941914, 0.80038219389341481, 0.80021826453977307, 0.80010024406478808, 0.80012200829758462, 0.80037178763898675, 0.80081711614406337, 0.80074267735015481, 0.80080422815522012, 0.80095019430738179, 0.80110736552686368, 0.80117439682997238, 0.80113649866705727, 0.80115409519556502, 0.80136853097855121, 0.80124542100723206, 0.80131070357348622, 0.80170313054601028, 0.80158069608907834, 0.80171899299877647, 0.80179819282203546, 0.80190579229438419], 'auc-stdv': [0.016649642422128796, 0.016406169134525351, 0.019399571498431082, 0.02336405827100984, 0.023629600947018402, 0.025596496732569318, 0.024942226513618177, 0.022548735307796566, 0.022859669093749615, 0.021389407641168652, 0.020999335894251174, 0.021413921676790577, 0.018985407459238546, 0.019228883358219623, 0.01988744944208453, 0.020555102678528128, 0.020083322540741643, 0.020492158475630844, 0.018734317986119551, 0.019283751400800759, 0.019269369990085567, 0.019285512332604674, 0.019879682033561667, 0.019920059251315677, 0.01985038563958004, 0.021086805645596497, 0.020632786807257598, 0.020152848535679686, 0.020106492582036412, 0.019762494090767802, 0.019726436429356033, 0.019934347678142693, 0.01993789255595765, 0.019513476580257302, 0.019503484675523337, 0.018793171918673697, 0.018806897044238904, 0.019245255942237693, 0.019673750914949422, 0.019433807249420329, 0.019259951750559064, 0.019349350756526901, 0.019325855184349205, 0.019353762484725236, 0.019022997905094336, 0.018940956274775832, 0.018549970961090758, 0.018325312954571262, 0.018389478462855411, 0.018406347551249241, 0.018221746216912523, 0.018139575886801807, 0.017689518938774695, 0.017311821497259697, 0.017179108641777133, 0.017459410738170474, 0.017008033154015091, 0.017254001768041503, 0.016905988626360342, 0.017211641871991413, 0.016807526683872424, 0.01695821375445045, 0.016672187751595149, 0.016734598251631667, 0.016834747832114114, 0.016741250565993251, 0.016515204247874542, 0.016547859393490509, 0.016596342853040631, 0.016607229277464226, 0.016718369847624991, 0.016634801557970022, 0.016443731641190909, 0.016327977387539147, 0.016457618897176517, 0.016513892074168895, 0.016537047003382509, 0.016553669996930288, 0.016459282621398924, 0.016381248794135307, 0.016116619270624043, 0.016290406143372103, 0.016137703090183628, 0.015942114361756899, 0.015723921956399912, 0.015629286495479885, 0.015491964452134887, 0.015755437586506126]}\n",
      "{'learning_rate': 0.05, 'n_estimators': 88, 'max_depth': 3, 'min_child_weight': 8, 'gamma': 0.0, 'subsample': 0.4, 'colsample_bytree': 0.8, 'nthread': 4, 'scale_pos_weight': 1, 'seed': 2018, 'reg_alpha': 0, 'reg_lambda': 0.01}\n"
     ]
    }
   ],
   "source": [
    "best_params.update(n_estimators=1000, learning_rate=0.05)\n",
    "lgb_model.set_params(**best_params)\n",
    "lgb_model = lgb_fit(lgb_model, X_train_std, y_train)\n",
    "best_params.update(n_estimators=lgb_model.n_estimators)\n",
    "print(best_params)"
   ]
  },
  {
   "cell_type": "code",
   "execution_count": 130,
   "metadata": {},
   "outputs": [
    {
     "name": "stdout",
     "output_type": "stream",
     "text": [
      "roc_auc：\n",
      "Train：0.8694\n",
      "Test：0.7776\n",
      "KS：\n",
      "Train：0.5713\n",
      "Test：0.4063\n"
     ]
    },
    {
     "data": {
      "image/png": "[encoded data removed]",
      "text/plain": [
       "<matplotlib.figure.Figure at 0x1ac6f944748>"
      ]
     },
     "metadata": {},
     "output_type": "display_data"
    }
   ],
   "source": [
    "lgb_model.set_params(**best_params)\n",
    "lgb_model.fit(X_train_std, y_train)\n",
    "\n",
    "# 评估 模型\n",
    "model_metrics(lgb_model, X_train_std, X_test_std, y_train, y_test)"
   ]
  },
  {
   "cell_type": "markdown",
   "metadata": {},
   "source": [
    "## 6. 模型融合 stacking\n",
    "关于stacking的原理：[stacking 模型融合](https://blog.csdn.net/yc1203968305/article/details/73526615)\n",
    "\n",
    "为了贯彻调包侠的理念，这里直接调用 mlxtend 库里面的 StackingCVClassifier 进行建模，这个库可以很好地完成对 sklearn 的 stacking。参考：[StackingClassifier](https://blog.csdn.net/github_35965351/article/details/60763606)"
   ]
  },
  {
   "cell_type": "code",
   "execution_count": 173,
   "metadata": {},
   "outputs": [
    {
     "name": "stdout",
     "output_type": "stream",
     "text": [
      "Fitting 5 classifiers...\n",
      "Fitting classifier1: logisticregression (1/5)\n",
      "LogisticRegression(C=0.03, class_weight='balanced', dual=False,\n",
      "          fit_intercept=True, intercept_scaling=1, max_iter=100,\n",
      "          multi_class='ovr', n_jobs=1, penalty='l1', random_state=2018,\n",
      "          solver='liblinear', tol=0.0001, verbose=1, warm_start=False)\n",
      "[LibLinear]Fitting classifier2: logisticregression (2/5)\n",
      "LogisticRegression(C=0.03, class_weight='balanced', dual=False,\n",
      "          fit_intercept=True, intercept_scaling=1, max_iter=100,\n",
      "          multi_class='ovr', n_jobs=1, penalty='l1', random_state=2018,\n",
      "          solver='liblinear', tol=0.0001, verbose=1, warm_start=False)\n",
      "[LibLinear]Fitting classifier3: logisticregression (3/5)\n",
      "LogisticRegression(C=0.03, class_weight='balanced', dual=False,\n",
      "          fit_intercept=True, intercept_scaling=1, max_iter=100,\n",
      "          multi_class='ovr', n_jobs=1, penalty='l1', random_state=2018,\n",
      "          solver='liblinear', tol=0.0001, verbose=1, warm_start=False)\n",
      "[LibLinear]Fitting classifier4: lgbmclassifier (4/5)\n",
      "LGBMClassifier(boosting_type='gbdt', class_weight=None, colsample_bytree=0.8,\n",
      "        gamma=0.0, importance_type='split', learning_rate=0.05,\n",
      "        max_depth=3, min_child_samples=20, min_child_weight=8,\n",
      "        min_split_gain=0.0, n_estimators=88, n_jobs=-1, nthread=4,\n",
      "        num_leaves=31, objective=None, random_state=None, reg_alpha=0,\n",
      "        reg_lambda=0.01, scale_pos_weight=1, seed=2018, silent=True,\n",
      "        subsample=0.4, subsample_for_bin=200000, subsample_freq=0)\n",
      "Fitting classifier5: lgbmclassifier (5/5)\n",
      "LGBMClassifier(boosting_type='gbdt', class_weight=None, colsample_bytree=0.8,\n",
      "        gamma=0.0, importance_type='split', learning_rate=0.05,\n",
      "        max_depth=3, min_child_samples=20, min_child_weight=8,\n",
      "        min_split_gain=0.0, n_estimators=88, n_jobs=-1, nthread=4,\n",
      "        num_leaves=31, objective=None, random_state=None, reg_alpha=0,\n",
      "        reg_lambda=0.01, scale_pos_weight=1, seed=2018, silent=True,\n",
      "        subsample=0.4, subsample_for_bin=200000, subsample_freq=0)\n",
      "roc_auc：\n",
      "Train：0.8438\n",
      "Test：0.7851\n",
      "KS：\n",
      "Train：0.5316\n",
      "Test：0.4274\n"
     ]
    },
    {
     "data": {
      "image/png": "[encoded data removed]",
      "text/plain": [
       "<matplotlib.figure.Figure at 0x1ac71502f60>"
      ]
     },
     "metadata": {},
     "output_type": "display_data"
    }
   ],
   "source": [
    "from mlxtend.classifier import StackingCVClassifier, StackingClassifier\n",
    "\n",
    "# 构建 Stacking 模型，只用 lr 和 lgb，其他得分太低了，所以抛弃掉，使用 lr 作为最后的融合模型\n",
    "# 数据分 5 份，三份使用 lr，两份使用 lgb 做 stacking\n",
    "s_clf = StackingClassifier(classifiers=[lr, lr, lr, lgb_model, lgb_model],\n",
    "                             meta_classifier=LogisticRegression(), use_probas=True, verbose=3)\n",
    "\n",
    "s_clf.fit(X_train_std, y_train)\n",
    "# 评估 Stacking 模型\n",
    "model_metrics(grid.best_estimator_, X_train_std, X_test_std, y_train, y_test)"
   ]
  },
  {
   "cell_type": "code",
   "execution_count": 169,
   "metadata": {},
   "outputs": [
    {
     "name": "stdout",
     "output_type": "stream",
     "text": [
      "Fitting 5 classifiers...\n",
      "Fitting classifier1: logisticregression (1/5)\n",
      "LogisticRegression(C=0.03, class_weight='balanced', dual=False,\n",
      "          fit_intercept=True, intercept_scaling=1, max_iter=100,\n",
      "          multi_class='ovr', n_jobs=1, penalty='l1', random_state=2018,\n",
      "          solver='liblinear', tol=0.0001, verbose=1, warm_start=False)\n",
      "[LibLinear]Fitting classifier2: logisticregression (2/5)\n",
      "LogisticRegression(C=0.03, class_weight='balanced', dual=False,\n",
      "          fit_intercept=True, intercept_scaling=1, max_iter=100,\n",
      "          multi_class='ovr', n_jobs=1, penalty='l1', random_state=2018,\n",
      "          solver='liblinear', tol=0.0001, verbose=1, warm_start=False)\n",
      "[LibLinear]Fitting classifier3: logisticregression (3/5)\n",
      "LogisticRegression(C=0.03, class_weight='balanced', dual=False,\n",
      "          fit_intercept=True, intercept_scaling=1, max_iter=100,\n",
      "          multi_class='ovr', n_jobs=1, penalty='l1', random_state=2018,\n",
      "          solver='liblinear', tol=0.0001, verbose=1, warm_start=False)\n",
      "[LibLinear]Fitting classifier4: lgbmclassifier (4/5)\n",
      "LGBMClassifier(boosting_type='gbdt', class_weight=None, colsample_bytree=0.8,\n",
      "        gamma=0.0, importance_type='split', learning_rate=0.05,\n",
      "        max_depth=3, min_child_samples=20, min_child_weight=8,\n",
      "        min_split_gain=0.0, n_estimators=88, n_jobs=-1, nthread=4,\n",
      "        num_leaves=31, objective=None, random_state=None, reg_alpha=0,\n",
      "        reg_lambda=0.01, scale_pos_weight=1, seed=2018, silent=True,\n",
      "        subsample=0.4, subsample_for_bin=200000, subsample_freq=0)\n",
      "Fitting classifier5: lgbmclassifier (5/5)\n",
      "LGBMClassifier(boosting_type='gbdt', class_weight=None, colsample_bytree=0.8,\n",
      "        gamma=0.0, importance_type='split', learning_rate=0.05,\n",
      "        max_depth=3, min_child_samples=20, min_child_weight=8,\n",
      "        min_split_gain=0.0, n_estimators=88, n_jobs=-1, nthread=4,\n",
      "        num_leaves=31, objective=None, random_state=None, reg_alpha=0,\n",
      "        reg_lambda=0.01, scale_pos_weight=1, seed=2018, silent=True,\n",
      "        subsample=0.4, subsample_for_bin=200000, subsample_freq=0)\n",
      "{'meta-logisticregression__C': 0.005}\n"
     ]
    }
   ],
   "source": [
    "# 调整最后 meta 模型参数\n",
    "params = {\n",
    "    'meta-logisticregression__C': [0.001, 0.005, 0.1, 0.5, 1]\n",
    "}\n",
    "\n",
    "grid = GridSearchCV(s_clf, param_grid=params, scoring='roc_auc', cv=5, n_jobs=-1)\n",
    "# this_params = grid_fit(s_clf, X_train_std, y_train, params_rough)\n",
    "grid.fit(X_train_std, y_train)\n",
    "print(grid.best_params_)"
   ]
  },
  {
   "cell_type": "markdown",
   "metadata": {},
   "source": [
    "## 5. 评估"
   ]
  },
  {
   "cell_type": "code",
   "execution_count": 171,
   "metadata": {},
   "outputs": [],
   "source": [
    "from sklearn.metrics import accuracy_score, precision_score, recall_score, f1_score, roc_auc_score, roc_curve, precision_recall_curve\n",
    "from matplotlib import pyplot as plt\n",
    "# 定义评估函数\n",
    "def model_metrics(clf, X_train, X_test, y_train, y_test, i=0):\n",
    "    # 预测\n",
    "    y_train_pred = clf.predict(X_train)\n",
    "    y_test_pred = clf.predict(X_test)\n",
    "    y_train_pred_proba = clf.predict_proba(X_train)[:, 1]\n",
    "    y_test_pred_proba = clf.predict_proba(X_test)[:, 1]\n",
    "\n",
    "    # 评估\n",
    "#     # 准确性\n",
    "#     print('准确性：')\n",
    "#     print('Train：{:.4f}'.format(accuracy_score(y_train, y_train_pred)))\n",
    "#     print('Test：{:.4f}'.format(accuracy_score(y_test, y_test_pred)))\n",
    "    \n",
    "#     # 精准率\n",
    "#     print('精确率：')\n",
    "#     print('Train：{:.4f}'.format(precision_score(y_train, y_train_pred)))\n",
    "#     print('Test：{:.4f}'.format(precision_score(y_test, y_test_pred)))\n",
    "\n",
    "#     # 召回率\n",
    "#     print('召回率：')\n",
    "#     print('Train：{:.4f}'.format(recall_score(y_train, y_train_pred)))\n",
    "#     print('Test：{:.4f}'.format(recall_score(y_test, y_test_pred)))\n",
    "    \n",
    "#     # f1_score\n",
    "#     print('f1_score：')\n",
    "#     print('Train：{:.4f}'.format(f1_score(y_train, y_train_pred)))\n",
    "#     print('Test：{:.4f}'.format(f1_score(y_test, y_test_pred)))\n",
    "    \n",
    "    # roc_auc\n",
    "    print('roc_auc：')\n",
    "    print('Train：{:.4f}'.format(roc_auc_score(y_train, y_train_pred_proba)))\n",
    "    print('Test：{:.4f}'.format(roc_auc_score(y_test, y_test_pred_proba)))    \n",
    "    \n",
    "    # 描绘 ROC 曲线\n",
    "    fpr_tr, tpr_tr, _ = roc_curve(y_train, y_train_pred_proba)\n",
    "    fpr_te, tpr_te, _ = roc_curve(y_test, y_test_pred_proba)\n",
    "\n",
    "    # KS\n",
    "    print('KS：')\n",
    "    print('Train：{:.4f}'.format(max(abs((fpr_tr - tpr_tr)))))\n",
    "    print('Test：{:.4f}'.format(max(abs((fpr_te - tpr_te)))))\n",
    "\n",
    "    # 绘图\n",
    "    plt.figure(i)\n",
    "    plt.plot(fpr_tr, tpr_tr, 'r-',\n",
    "             label=\"Train:AUC: {:.4f} KS:{:.4f}\".format(roc_auc_score(y_train, y_train_pred_proba), \n",
    "                                                        max(abs((fpr_tr - tpr_tr)))))\n",
    "    plt.plot(fpr_te, tpr_te, 'g-',\n",
    "             label=\"Test:AUC: {:.4f} KS:{:.4f}\".format(roc_auc_score(y_test, y_test_pred_proba),\n",
    "                                                     max(abs((fpr_te - tpr_te)))))\n",
    "    plt.plot([0, 1], [0, 1], 'd--')\n",
    "    plt.legend(loc='best')\n",
    "    plt.title(\"ROC curse\")\n",
    "    plt.show()"
   ]
  }
 ],
 "metadata": {
  "kernelspec": {
   "display_name": "Python 3",
   "language": "python",
   "name": "python3"
  },
  "language_info": {
   "codemirror_mode": {
    "name": "ipython",
    "version": 3
   },
   "file_extension": ".py",
   "mimetype": "text/x-python",
   "name": "python",
   "nbconvert_exporter": "python",
   "pygments_lexer": "ipython3",
   "version": "3.6.3"
  }
 },
 "nbformat": 4,
 "nbformat_minor": 1
}
