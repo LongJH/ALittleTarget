{
 "cells": [
  {
   "cell_type": "markdown",
   "metadata": {},
   "source": [
    "# Mission 7 模型融合\n",
    "---\n",
    "\n",
    "\n",
    "## 任务\n",
    "用你目前评分最高的模型作为基准模型，和其他模型进行stacking融合，得到最终模型及评分\n"
   ]
  },
  {
   "cell_type": "code",
   "execution_count": 1,
   "metadata": {},
   "outputs": [],
   "source": [
    "# 导入需要的包\n",
    "import pandas as pd\n",
    "from sklearn.model_selection import train_test_split, GridSearchCV\n",
    "from sklearn.metrics import roc_auc_score, roc_curve, accuracy_score, f1_score, classification_report\n",
    "from model_config import clfs\n",
    "\n",
    "# 设置 pandas 显示列数\n",
    "pd.set_option('display.max_columns', 10000)\n",
    "pd.set_option('display.width', 10000)"
   ]
  },
  {
   "cell_type": "markdown",
   "metadata": {},
   "source": [
    "## 1. 导入数据，2. 特征处理"
   ]
  },
  {
   "cell_type": "code",
   "execution_count": 2,
   "metadata": {},
   "outputs": [
    {
     "name": "stdout",
     "output_type": "stream",
     "text": [
      "X.shape: (4754, 89)\n",
      "y 的分布\n",
      " 0    3561\n",
      "1    1193\n",
      "Name: status, dtype: int64\n"
     ]
    }
   ],
   "source": [
    "# 假设前面我们已经将处理好的数据存到一个 cl_data.pkl 的文件\n",
    "import pickle as pkl\n",
    "with open('./data/cl_data.pkl', 'rb') as f:\n",
    "    cl_data = pkl.load(f)\n",
    "\n",
    "X_cl = cl_data['X_cl']\n",
    "y = cl_data['y']\n",
    "\n",
    "# 数据构成\n",
    "print('X.shape:', X_cl.shape)\n",
    "print('y 的分布\\n', y.value_counts())"
   ]
  },
  {
   "cell_type": "markdown",
   "metadata": {},
   "source": [
    "## 3. 数据划分\n",
    "为了避免训练集太少，使用 二八 分"
   ]
  },
  {
   "cell_type": "code",
   "execution_count": 3,
   "metadata": {},
   "outputs": [
    {
     "name": "stdout",
     "output_type": "stream",
     "text": [
      "(3803, 89)\n",
      "(951, 89)\n"
     ]
    }
   ],
   "source": [
    "from sklearn.model_selection import train_test_split\n",
    "random_state = 1115\n",
    "X_train, X_test, y_train, y_test = train_test_split(X_cl, y, test_size=0.2, random_state=random_state)\n",
    "print(X_train.shape)\n",
    "print(X_test.shape)"
   ]
  },
  {
   "cell_type": "code",
   "execution_count": 4,
   "metadata": {},
   "outputs": [],
   "source": [
    "# 数据归一化\n",
    "from sklearn.preprocessing import StandardScaler\n",
    "ss = StandardScaler()\n",
    "X_train_std = ss.fit_transform(X_train)\n",
    "X_test_std = ss.transform(X_test)"
   ]
  },
  {
   "cell_type": "markdown",
   "metadata": {},
   "source": [
    "## 4. 建模，5. 调参\n",
    "假设已经将经过调完参数的模型存放在 model_config 的 clfs 中"
   ]
  },
  {
   "cell_type": "code",
   "execution_count": 7,
   "metadata": {},
   "outputs": [],
   "source": [
    "from sklearn.linear_model import LogisticRegression\n",
    "from sklearn.svm import SVC\n",
    "from sklearn.tree import DecisionTreeClassifier\n",
    "from xgboost.sklearn import XGBClassifier\n",
    "from lightgbm.sklearn import LGBMClassifier\n",
    "\n",
    "# 读取模型\n",
    "lr = clfs.get('lr')\n",
    "linear_svc = clfs.get('linear_svc')\n",
    "poly_svc = clfs.get('poly_svc')\n",
    "dt = clfs.get('dt')\n",
    "xgb_model = clfs.get('xgb')\n",
    "lgb_model = clfs.get('lgb')"
   ]
  },
  {
   "cell_type": "markdown",
   "metadata": {},
   "source": [
    "## 6. 模型融合 stacking\n",
    "关于stacking的原理：[stacking 模型融合](https://blog.csdn.net/yc1203968305/article/details/73526615)\n",
    "\n",
    "为了贯彻调包侠的理念，这里直接调用 mlxtend 库里面的 StackingCVClassifier 进行建模，这个库可以很好地完成对 sklearn 的 stacking。参考：[StackingClassifier](https://blog.csdn.net/github_35965351/article/details/60763606)"
   ]
  },
  {
   "cell_type": "code",
   "execution_count": 17,
   "metadata": {},
   "outputs": [
    {
     "name": "stdout",
     "output_type": "stream",
     "text": [
      "Fitting 3 classifiers...\n",
      "Fitting classifier1: svc (1/3)\n",
      "SVC(C=1, cache_size=200, class_weight=None, coef0=0.0,\n",
      "  decision_function_shape='ovr', degree=3, gamma='auto', kernel='linear',\n",
      "  max_iter=-1, probability=True, random_state=None, shrinking=True,\n",
      "  tol=0.001, verbose=1)\n",
      "[LibSVM]Fitting classifier2: xgbclassifier (2/3)\n",
      "XGBClassifier(base_score=0.5, booster='gbtree', colsample_bylevel=1,\n",
      "       colsample_bytree=0.8, gamma=0, learning_rate=0.1, max_delta_step=0,\n",
      "       max_depth=5, min_child_weight=1, missing=None, n_estimators=42,\n",
      "       n_jobs=1, nthread=4, objective='binary:logistic', random_state=0,\n",
      "       reg_alpha=0, reg_lambda=1, scale_pos_weight=1, seed=112,\n",
      "       silent=True, subsample=0.8)\n",
      "Fitting classifier3: lgbmclassifier (3/3)\n",
      "LGBMClassifier(boosting_type='gbdt', class_weight=None, colsample_bytree=0.8,\n",
      "        gamma=0, importance_type='split', learning_rate=0.1, max_depth=5,\n",
      "        min_child_samples=20, min_child_weight=1, min_split_gain=0.0,\n",
      "        n_estimators=42, n_jobs=-1, nthread=4, num_leaves=31,\n",
      "        objective=None, random_state=None, reg_alpha=0.0, reg_lambda=0.0,\n",
      "        scale_pos_weight=1, seed=112, silent=True, subsample=0.8,\n",
      "        subsample_for_bin=200000, subsample_freq=0)\n"
     ]
    },
    {
     "data": {
      "text/plain": [
       "StackingClassifier(average_probas=False,\n",
       "          classifiers=[SVC(C=1, cache_size=200, class_weight=None, coef0=0.0,\n",
       "  decision_function_shape='ovr', degree=3, gamma='auto', kernel='linear',\n",
       "  max_iter=-1, probability=True, random_state=None, shrinking=True,\n",
       "  tol=0.001, verbose=False), XGBClassifier(base_score=0.5, booster='gbtree', colsample_byl...weight=1, seed=112, silent=True, subsample=0.8,\n",
       "        subsample_for_bin=200000, subsample_freq=0)],\n",
       "          meta_classifier=LogisticRegression(C=0.1, class_weight=None, dual=False, fit_intercept=True,\n",
       "          intercept_scaling=1, max_iter=100, multi_class='ovr', n_jobs=1,\n",
       "          penalty='l1', random_state=None, solver='liblinear', tol=0.0001,\n",
       "          verbose=0, warm_start=False),\n",
       "          store_train_meta_features=False, use_clones=True,\n",
       "          use_features_in_secondary=False, use_probas=True, verbose=3)"
      ]
     },
     "execution_count": 17,
     "metadata": {},
     "output_type": "execute_result"
    }
   ],
   "source": [
    "from mlxtend.classifier import StackingCVClassifier, StackingClassifier\n",
    "\n",
    "# 构建 Stacking 模型，因为 dt 评分太低了，所以抛弃掉，使用 lr 作为最后的融合模型\n",
    "s_clf = StackingClassifier(classifiers=[linear_svc, xgb_model, lgb_model], \n",
    "                             meta_classifier=lr, use_probas=True, verbose=3)\n",
    "\n",
    "s_clf.fit(X_train_std, y_train)"
   ]
  },
  {
   "cell_type": "code",
   "execution_count": 20,
   "metadata": {},
   "outputs": [
    {
     "name": "stdout",
     "output_type": "stream",
     "text": [
      "准确性：\n",
      "Train：0.9303\n",
      "Test：0.7855\n",
      "精确率：\n",
      "Train：0.9129\n",
      "Test：0.6133\n",
      "召回率：\n",
      "Train：0.7964\n",
      "Test：0.4531\n",
      "f1_score：\n",
      "Train：0.8507\n",
      "Test：0.5211\n",
      "roc_auc：\n",
      "Train：0.9723\n",
      "Test：0.7683\n",
      "KS：\n",
      "Train：0.8256\n",
      "Test：0.3911\n"
     ]
    },
    {
     "data": {
      "image/png": "[encoded data removed]",
      "text/plain": [
       "<matplotlib.figure.Figure at 0x1ff9dc4b160>"
      ]
     },
     "metadata": {},
     "output_type": "display_data"
    }
   ],
   "source": [
    "# 评估 Stacking 模型\n",
    "model_metrics(s_clf, X_train_std, X_test_std, y_train, y_test)"
   ]
  },
  {
   "cell_type": "markdown",
   "metadata": {},
   "source": [
    "## 5. 评估"
   ]
  },
  {
   "cell_type": "code",
   "execution_count": 19,
   "metadata": {},
   "outputs": [],
   "source": [
    "from sklearn.metrics import accuracy_score, precision_score, recall_score, f1_score, roc_auc_score, roc_curve, precision_recall_curve\n",
    "from matplotlib import pyplot as plt\n",
    "# 定义评估函数\n",
    "def model_metrics(clf, X_train, X_test, y_train, y_test, i=0):\n",
    "    # 预测\n",
    "    y_train_pred = clf.predict(X_train)\n",
    "    y_test_pred = clf.predict(X_test)\n",
    "    y_train_pred_proba = clf.predict_proba(X_train)[:, 1]\n",
    "    y_test_pred_proba = clf.predict_proba(X_test)[:, 1]\n",
    "\n",
    "    # 评估\n",
    "    # 准确性\n",
    "    print('准确性：')\n",
    "    print('Train：{:.4f}'.format(accuracy_score(y_train, y_train_pred)))\n",
    "    print('Test：{:.4f}'.format(accuracy_score(y_test, y_test_pred)))\n",
    "    \n",
    "    # 精准率\n",
    "    print('精确率：')\n",
    "    print('Train：{:.4f}'.format(precision_score(y_train, y_train_pred)))\n",
    "    print('Test：{:.4f}'.format(precision_score(y_test, y_test_pred)))\n",
    "\n",
    "    # 召回率\n",
    "    print('召回率：')\n",
    "    print('Train：{:.4f}'.format(recall_score(y_train, y_train_pred)))\n",
    "    print('Test：{:.4f}'.format(recall_score(y_test, y_test_pred)))\n",
    "    \n",
    "    # f1_score\n",
    "    print('f1_score：')\n",
    "    print('Train：{:.4f}'.format(f1_score(y_train, y_train_pred)))\n",
    "    print('Test：{:.4f}'.format(f1_score(y_test, y_test_pred)))\n",
    "    \n",
    "    # roc_auc\n",
    "    print('roc_auc：')\n",
    "    print('Train：{:.4f}'.format(roc_auc_score(y_train, y_train_pred_proba)))\n",
    "    print('Test：{:.4f}'.format(roc_auc_score(y_test, y_test_pred_proba)))    \n",
    "    \n",
    "    # 描绘 ROC 曲线\n",
    "    fpr_tr, tpr_tr, _ = roc_curve(y_train, y_train_pred_proba)\n",
    "    fpr_te, tpr_te, _ = roc_curve(y_test, y_test_pred_proba)\n",
    "\n",
    "    # KS\n",
    "    print('KS：')\n",
    "    print('Train：{:.4f}'.format(max(abs((fpr_tr - tpr_tr)))))\n",
    "    print('Test：{:.4f}'.format(max(abs((fpr_te - tpr_te)))))\n",
    "\n",
    "    # 绘图\n",
    "    plt.figure(i)\n",
    "    plt.plot(fpr_tr, tpr_tr, 'r-',\n",
    "             label=\"Train:AUC: {:.3f} KS:{:.3f}\".format(roc_auc_score(y_train, y_train_pred_proba), \n",
    "                                                        max(abs((fpr_tr - tpr_tr)))))\n",
    "    plt.plot(fpr_te, tpr_te, 'g-',\n",
    "             label=\"Test:AUC: {:.3f} KS:{:.3f}\".format(roc_auc_score(y_test, y_test_pred_proba),\n",
    "                                                     max(abs((fpr_te - tpr_te)))))\n",
    "    plt.plot([0, 1], [0, 1], 'd--')\n",
    "    plt.legend(loc='best')\n",
    "    plt.title(\"ROC curse\")\n",
    "    plt.show()"
   ]
  }
 ],
 "metadata": {
  "kernelspec": {
   "display_name": "Python 3",
   "language": "python",
   "name": "python3"
  },
  "language_info": {
   "codemirror_mode": {
    "name": "ipython",
    "version": 3
   },
   "file_extension": ".py",
   "mimetype": "text/x-python",
   "name": "python",
   "nbconvert_exporter": "python",
   "pygments_lexer": "ipython3",
   "version": "3.6.3"
  }
 },
 "nbformat": 4,
 "nbformat_minor": 1
}
