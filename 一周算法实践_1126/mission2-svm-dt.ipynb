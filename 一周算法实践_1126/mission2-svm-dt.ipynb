{
 "cells": [
  {
   "cell_type": "markdown",
   "metadata": {},
   "source": [
    "# 一个小目标 mission two\n",
    "---\n",
    "\n",
    "\n",
    "## 任务\n",
    "分别使用 SVM 与 决策树 对客户逾期情况进行建模，预测用户是否会逾期\n"
   ]
  },
  {
   "cell_type": "code",
   "execution_count": 1,
   "metadata": {},
   "outputs": [],
   "source": [
    "# 导入需要的包\n",
    "import pandas as pd\n",
    "from sklearn.linear_model import LogisticRegression\n",
    "from sklearn.model_selection import train_test_split, GridSearchCV\n",
    "from sklearn.metrics import roc_auc_score, roc_curve, accuracy_score, f1_score, classification_report\n",
    "from matplotlib import pyplot as plt\n",
    "\n",
    "# 设置 pandas 显示列数\n",
    "pd.set_option('display.max_columns', 10000)\n",
    "pd.set_option('display.width', 10000)"
   ]
  },
  {
   "cell_type": "markdown",
   "metadata": {},
   "source": [
    "## 1. 导入数据"
   ]
  },
  {
   "cell_type": "code",
   "execution_count": 2,
   "metadata": {},
   "outputs": [],
   "source": [
    "# 因为数据并非utf-8编码，要使用gbk编码读入，否则出错\n",
    "data = pd.read_csv('./data/data.csv', index_col=0, encoding='gbk')\n",
    "\n",
    "# 观察数据构成\n",
    "# data.head()"
   ]
  },
  {
   "cell_type": "code",
   "execution_count": 3,
   "metadata": {},
   "outputs": [
    {
     "name": "stdout",
     "output_type": "stream",
     "text": [
      "X.shape: (4754, 88)\n",
      "y 的分布\n",
      " 0    3561\n",
      "1    1193\n",
      "Name: status, dtype: int64\n"
     ]
    }
   ],
   "source": [
    "# 划分 X, y\n",
    "y = data['status']\n",
    "X = data.drop('status', axis=1)\n",
    "\n",
    "# X行数\n",
    "print('X.shape:', X.shape)\n",
    "print('y 的分布\\n', y.value_counts())"
   ]
  },
  {
   "cell_type": "markdown",
   "metadata": {},
   "source": [
    "## 2. 数据探索及特征处理\n",
    "本次任务目的在于主流程，所以数据探索部分做得比较粗糙，以后有需要再慢慢补充\n",
    "从上面数据看出，本份数据以数值型特征位数，有少数几个字符型特征，还有两个日期特征。下面一步步进行处理"
   ]
  },
  {
   "cell_type": "code",
   "execution_count": 4,
   "metadata": {},
   "outputs": [
    {
     "data": {
      "text/plain": [
       "(4754, 85)"
      ]
     },
     "execution_count": 4,
     "metadata": {},
     "output_type": "execute_result"
    }
   ],
   "source": [
    "# 首先剔除一些明显无用的特征，如 id_name, custid, trade_no, bank_card_no，\n",
    "# 这些优点类似一个人的唯一信息，如果加入模型训练且对最终模型生效的话，很可能就是出现了过拟合\n",
    "X.drop(['id_name', 'custid', 'trade_no', 'bank_card_no'], axis=1, inplace=True)\n",
    "\n",
    "# 数值型变量\n",
    "X_num = X.select_dtypes('number').copy()\n",
    "# student_feature\n",
    "X_num.fillna({'student_feature': 0}, inplace=True)\n",
    "# 其他数值型变量使用均值代替\n",
    "X_num.fillna(X_num.mean(), inplace=True)\n",
    "\n",
    "# 字符型变量\n",
    "X_str = X.select_dtypes(exclude='number').copy()\n",
    "X_str_dummy = pd.get_dummies(X_str['reg_preference_for_trad'])\n",
    "\n",
    "# 合并\n",
    "X_cl = pd.concat([X_num, X_str_dummy], axis=1, sort=False)\n",
    "X_cl.shape"
   ]
  },
  {
   "cell_type": "markdown",
   "metadata": {},
   "source": [
    "### 3. 数据划分\n",
    "三七 分，随机种子就取今天日期吧"
   ]
  },
  {
   "cell_type": "code",
   "execution_count": 6,
   "metadata": {},
   "outputs": [
    {
     "name": "stdout",
     "output_type": "stream",
     "text": [
      "(3327, 85)\n",
      "(1427, 85)\n"
     ]
    }
   ],
   "source": [
    "random_state = 1115\n",
    "X_train, X_test, y_train, y_test = train_test_split(X_cl, y, test_size=0.3, random_state=random_state)\n",
    "print(X_train.shape)\n",
    "print(X_test.shape)"
   ]
  },
  {
   "cell_type": "code",
   "execution_count": 7,
   "metadata": {},
   "outputs": [],
   "source": [
    "# 数据归一化\n",
    "from sklearn.preprocessing import StandardScaler\n",
    "ss = StandardScaler()\n",
    "X_train_std = ss.fit_transform(X_train)\n",
    "X_test_std = ss.transform(X_test)"
   ]
  },
  {
   "cell_type": "markdown",
   "metadata": {},
   "source": [
    "### 4. 建模\n",
    "#### model1-LR"
   ]
  },
  {
   "cell_type": "code",
   "execution_count": 15,
   "metadata": {},
   "outputs": [
    {
     "name": "stdout",
     "output_type": "stream",
     "text": [
      "{'C': 0.05, 'penalty': 'l1'}\n",
      "0.793808235648\n"
     ]
    }
   ],
   "source": [
    "# 先用网格搜索选下超参，\n",
    "# 评价参数没有给出，这次使用 f1_micro 作为评价标准\n",
    "lr = LogisticRegression()\n",
    "param_grid = {\n",
    "    'C': [0.05, 0.1, 0.5, 1, 5],\n",
    "    'penalty': ['l1', 'l2']\n",
    "}\n",
    "\n",
    "grid = GridSearchCV(lr, param_grid=param_grid, scoring='f1_micro')\n",
    "\n",
    "grid.fit(X_train_std, y_train)\n",
    "\n",
    "print(grid.best_params_)\n",
    "print(grid.best_score_)"
   ]
  },
  {
   "cell_type": "code",
   "execution_count": 16,
   "metadata": {},
   "outputs": [
    {
     "name": "stdout",
     "output_type": "stream",
     "text": [
      "准确性：\n",
      "Train：0.7986\n",
      "Test：0.8031\n",
      "f1_score：\n",
      "Train：0.4444\n",
      "Test：0.4565\n"
     ]
    }
   ],
   "source": [
    "# 使用训练好的超参进行建模\n",
    "lr = LogisticRegression(**grid.best_params_)\n",
    "lr.fit(X_train_std, y_train)\n",
    "\n",
    "# 准确性\n",
    "y_train_pred = lr.predict(X_train_std)\n",
    "y_test_pred = lr.predict(X_test_std)\n",
    "print('准确性：')\n",
    "print('Train：{:.4f}'.format(accuracy_score(y_train, y_train_pred)))\n",
    "print('Test：{:.4f}'.format(accuracy_score(y_test, y_test_pred)))\n",
    "# f1_score\n",
    "print('f1_score：')\n",
    "print('Train：{:.4f}'.format(f1_score(y_train, y_train_pred)))\n",
    "print('Test：{:.4f}'.format(f1_score(y_test, y_test_pred)))"
   ]
  },
  {
   "cell_type": "markdown",
   "metadata": {},
   "source": [
    "#### model2-svm"
   ]
  },
  {
   "cell_type": "code",
   "execution_count": 11,
   "metadata": {},
   "outputs": [
    {
     "name": "stdout",
     "output_type": "stream",
     "text": [
      "准确性：\n",
      "Train：0.7977\n",
      "Test：0.8031\n",
      "f1_score：\n",
      "Train：0.4524\n",
      "Test：0.4586\n"
     ]
    }
   ],
   "source": [
    "from sklearn.svm import SVC, LinearSVC\n",
    "# 线性 SVM\n",
    "lsvc = LinearSVC()\n",
    "lsvc.fit(X_train_std, y_train)\n",
    "\n",
    "# 准确性\n",
    "y_train_pred = lsvc.predict(X_train_std)\n",
    "y_test_pred = lsvc.predict(X_test_std)\n",
    "print('准确性：')\n",
    "print('Train：{:.4f}'.format(accuracy_score(y_train, y_train_pred)))\n",
    "print('Test：{:.4f}'.format(accuracy_score(y_test, y_test_pred)))\n",
    "# f1_score\n",
    "print('f1_score：')\n",
    "print('Train：{:.4f}'.format(f1_score(y_train, y_train_pred)))\n",
    "print('Test：{:.4f}'.format(f1_score(y_test, y_test_pred)))"
   ]
  },
  {
   "cell_type": "code",
   "execution_count": 12,
   "metadata": {
    "scrolled": true
   },
   "outputs": [
    {
     "name": "stdout",
     "output_type": "stream",
     "text": [
      "准确性：\n",
      "Train：0.8323\n",
      "Test：0.7996\n",
      "f1_score：\n",
      "Train：0.5295\n",
      "Test：0.4066\n"
     ]
    }
   ],
   "source": [
    "# 非线性 SVM\n",
    "svc = SVC()\n",
    "svc.fit(X_train_std, y_train)\n",
    "\n",
    "# 准确性\n",
    "y_train_pred = svc.predict(X_train_std)\n",
    "y_test_pred = svc.predict(X_test_std)\n",
    "print('准确性：')\n",
    "print('Train：{:.4f}'.format(accuracy_score(y_train, y_train_pred)))\n",
    "print('Test：{:.4f}'.format(accuracy_score(y_test, y_test_pred)))\n",
    "# f1_score\n",
    "print('f1_score：')\n",
    "print('Train：{:.4f}'.format(f1_score(y_train, y_train_pred)))\n",
    "print('Test：{:.4f}'.format(f1_score(y_test, y_test_pred)))"
   ]
  },
  {
   "cell_type": "markdown",
   "metadata": {},
   "source": [
    "#### model3-决策树"
   ]
  },
  {
   "cell_type": "code",
   "execution_count": 13,
   "metadata": {},
   "outputs": [
    {
     "name": "stdout",
     "output_type": "stream",
     "text": [
      "准确性：\n",
      "Train：1.0000\n",
      "Test：0.7043\n",
      "f1_score：\n",
      "Train：1.0000\n",
      "Test：0.4139\n"
     ]
    }
   ],
   "source": [
    "from sklearn.tree import DecisionTreeClassifier\n",
    "# 决策树\n",
    "# 线性 SVM\n",
    "dt = DecisionTreeClassifier()\n",
    "dt.fit(X_train_std, y_train)\n",
    "\n",
    "# 准确性\n",
    "y_train_pred = dt.predict(X_train_std)\n",
    "y_test_pred = dt.predict(X_test_std)\n",
    "print('准确性：')\n",
    "print('Train：{:.4f}'.format(accuracy_score(y_train, y_train_pred)))\n",
    "print('Test：{:.4f}'.format(accuracy_score(y_test, y_test_pred)))\n",
    "# f1_score\n",
    "print('f1_score：')\n",
    "print('Train：{:.4f}'.format(f1_score(y_train, y_train_pred)))\n",
    "print('Test：{:.4f}'.format(f1_score(y_test, y_test_pred)))\n",
    "\n",
    "# 这里其实有点过拟合了，在训练集上的预测是 100%。但是这点暂时不处理，以后调参的时候再进行研究"
   ]
  },
  {
   "cell_type": "code",
   "execution_count": null,
   "metadata": {},
   "outputs": [],
   "source": [
    ""
   ]
  }
 ],
 "metadata": {
  "kernelspec": {
   "display_name": "Python 3",
   "language": "python",
   "name": "python3"
  },
  "language_info": {
   "codemirror_mode": {
    "name": "ipython",
    "version": 3.0
   },
   "file_extension": ".py",
   "mimetype": "text/x-python",
   "name": "python",
   "nbconvert_exporter": "python",
   "pygments_lexer": "ipython3",
   "version": "3.6.3"
  }
 },
 "nbformat": 4,
 "nbformat_minor": 0
}